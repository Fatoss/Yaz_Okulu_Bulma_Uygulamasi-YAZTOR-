{
  "cells": [
    {
      "cell_type": "markdown",
      "metadata": {
        "id": "ON0VxwzzTi9f"
      },
      "source": [
        "# Lecture 2 Data Types in Python"
      ]
    },
    {
      "cell_type": "markdown",
      "metadata": {
        "id": "PheRkAyNTi9l"
      },
      "source": [
        "The lecture contains the following subsections:\n",
        "- [2.1 Introduction](#section1)\n",
        "- [2.2 Numbers](#section2)\n",
        "- [2.3 Strings](#section3)\n",
        "- [2.4 Lists](#section4)\n",
        "- [2.5 Dictionaries](#section5)\n",
        "- [2.6 Tuples](#section6)\n",
        "- [2.7 Sets](#section7)\n",
        "- [2.8 Other Data Types](#section8)\n",
        "- [2.9 Appendix: String Formatting](#section9)\n",
        "- [References](#section10)\n",
        "\n",
        "For your reference, the figure below provides a brief overview of the data types in Python.\n",
        "\n",
        "<img style=\"float: left; height:360px;\" src=\"https://github.com/avakanski/Fall-2022-Python-Programming-for-Data-Science/blob/main/Lectures/Theme%201%20-%20Python%20Programming/Lecture%202%20-%20Data%20Types%20in%20Python/images/pic1.jpg?raw=1\">"
      ]
    },
    {
      "cell_type": "markdown",
      "metadata": {
        "id": "RJCXu7BvTi9n"
      },
      "source": [
        "# 2.1 Introduction<a id=\"section1\"/>"
      ]
    },
    {
      "cell_type": "markdown",
      "metadata": {
        "id": "f3YPg6Z-Ti9n"
      },
      "source": [
        "Python is an interpreted, high-level, general-purpose programming language. Created by Guido van Rossum and first released in 1991, Python's design philosophy emphasizes code readability. Its language constructs and object-oriented approach aim to help programmers write clear, logical code for small- and large-scale projects. Python has become a common language for machine learning and data science applications. \n",
        "\n",
        "Python 3.0, released in 2008, was a significant revision of the language that is not entirely backward-compatible, and much Python 2 code does not run unmodified on Python 3.  This course makes use of Python 3. A non-profit organization, the Python Software Foundation (PSF), manages and directs resources for Python development. On January 1, 2020, the PSF discontinued the Python 2 language and no longer provides security patches and other improvements. Python interpreters are available for many operating systems. "
      ]
    },
    {
      "cell_type": "markdown",
      "metadata": {
        "id": "7kJlFWAbTi9o"
      },
      "source": [
        "### Dynamic Typing\n",
        "\n",
        "Python uses *dynamic typing*, meaning you can reassign variables to different data types. This makes Python very flexible in assigning data types; it differs from other languages that are *statically typed*."
      ]
    },
    {
      "cell_type": "code",
      "execution_count": null,
      "metadata": {
        "id": "RD0-Epn6Ti9p"
      },
      "outputs": [],
      "source": [
        "my_dogs = 2"
      ]
    },
    {
      "cell_type": "code",
      "execution_count": null,
      "metadata": {
        "id": "wD7mS8eOTi9r",
        "outputId": "7776795d-e940-4542-c5dc-dbb5bc253102"
      },
      "outputs": [
        {
          "data": {
            "text/plain": [
              "2"
            ]
          },
          "execution_count": 2,
          "metadata": {},
          "output_type": "execute_result"
        }
      ],
      "source": [
        "# Show\n",
        "my_dogs"
      ]
    },
    {
      "cell_type": "code",
      "execution_count": null,
      "metadata": {
        "id": "2O6c7LKdTi9u"
      },
      "outputs": [],
      "source": [
        "# Reassign to a list\n",
        "my_dogs = ['Sammy', 'Frankie']"
      ]
    },
    {
      "cell_type": "code",
      "execution_count": null,
      "metadata": {
        "id": "qJ_iaHt-Ti9w",
        "outputId": "c16ed9a4-00a4-416b-f163-15836f6bc82c"
      },
      "outputs": [
        {
          "data": {
            "text/plain": [
              "['Sammy', 'Frankie']"
            ]
          },
          "execution_count": 4,
          "metadata": {},
          "output_type": "execute_result"
        }
      ],
      "source": [
        "my_dogs"
      ]
    },
    {
      "cell_type": "markdown",
      "metadata": {
        "id": "jXcKYL6wTi9y"
      },
      "source": [
        "**Pros of Dynamic Typing**\n",
        "* Very easy to work with\n",
        "* Faster development time\n",
        "\n",
        "**Cons of Dynamic Typing**\n",
        "* May result in unexpected bugs\n",
        "* You need to be aware of the `type()` of objects"
      ]
    },
    {
      "cell_type": "markdown",
      "metadata": {
        "id": "Q5mfm8_WTi9z"
      },
      "source": [
        "### Assigning Variables\n",
        "\n",
        "Listed are several rules for variable names in Python.\n",
        "* Names can not start with a number\n",
        "* Names can not contain spaces, use _ instead\n",
        "* Names can not contain any of these symbols  :'\",<>/?|\\!@#%^&*~-+\n",
        "* It's considered best practice ([PEP8](https://www.python.org/dev/peps/pep-0008/#function-and-variable-names)) that names are lowercase letters with underscores\n",
        "* Avoid using Python built-in keywords like `list` and `str`\n",
        "* Avoid using the single characters `l` (lowercase letter el), `O` (uppercase letter oh) and `I` (uppercase letter eye) as they can be confused with `1` and `0`\n",
        "\n",
        "Variable assignment follows `name = object`, where a single equals sign `=` is an **assignment operator**."
      ]
    },
    {
      "cell_type": "code",
      "execution_count": null,
      "metadata": {
        "id": "4XkneGPpTi90"
      },
      "outputs": [],
      "source": [
        "# Assign the integer object 5 to the variable name a\n",
        "a = 5"
      ]
    },
    {
      "cell_type": "code",
      "execution_count": null,
      "metadata": {
        "id": "lHFgu39NTi91",
        "outputId": "73fc5f2a-44a5-4796-c32f-2462f09e7e9f"
      },
      "outputs": [
        {
          "data": {
            "text/plain": [
              "5"
            ]
          },
          "execution_count": 6,
          "metadata": {},
          "output_type": "execute_result"
        }
      ],
      "source": [
        "a"
      ]
    },
    {
      "cell_type": "markdown",
      "metadata": {
        "id": "22LGpLNBTi92"
      },
      "source": [
        "Variables can be re-assigned."
      ]
    },
    {
      "cell_type": "code",
      "execution_count": null,
      "metadata": {
        "id": "dJDrmWO7Ti93",
        "outputId": "8ae74692-1c91-49e2-8c76-765970db0374"
      },
      "outputs": [
        {
          "data": {
            "text/plain": [
              "10"
            ]
          },
          "execution_count": 7,
          "metadata": {},
          "output_type": "execute_result"
        }
      ],
      "source": [
        "a = 10\n",
        "a"
      ]
    },
    {
      "cell_type": "markdown",
      "metadata": {
        "id": "bG3HdeTDTi93"
      },
      "source": [
        "Python also lets you reassign variables with a reference to the same object."
      ]
    },
    {
      "cell_type": "code",
      "execution_count": null,
      "metadata": {
        "id": "6VBkAIj8Ti93",
        "outputId": "9cfc1f8a-4914-4c01-c144-50062bae2729"
      },
      "outputs": [
        {
          "data": {
            "text/plain": [
              "20"
            ]
          },
          "execution_count": 8,
          "metadata": {},
          "output_type": "execute_result"
        }
      ],
      "source": [
        "a = a + 10\n",
        "a"
      ]
    },
    {
      "cell_type": "markdown",
      "metadata": {
        "id": "_bbLL76aTi94"
      },
      "source": [
        "Python lets you use shortcuts to add, subtract, multiply and divide numbers with reassignment using `+=`, `-=`, `*=`, and `/=`."
      ]
    },
    {
      "cell_type": "code",
      "execution_count": null,
      "metadata": {
        "id": "w36FN8BxTi94",
        "outputId": "79b896de-71af-47b5-9d31-4411604c9867"
      },
      "outputs": [
        {
          "data": {
            "text/plain": [
              "30"
            ]
          },
          "execution_count": 9,
          "metadata": {},
          "output_type": "execute_result"
        }
      ],
      "source": [
        "a += 10\n",
        "a"
      ]
    },
    {
      "cell_type": "code",
      "execution_count": null,
      "metadata": {
        "id": "8xFijIpHTi95",
        "outputId": "014c62f4-a1c8-476e-b251-dbeb83e40422"
      },
      "outputs": [
        {
          "data": {
            "text/plain": [
              "60"
            ]
          },
          "execution_count": 10,
          "metadata": {},
          "output_type": "execute_result"
        }
      ],
      "source": [
        "a *= 2\n",
        "a"
      ]
    },
    {
      "cell_type": "markdown",
      "metadata": {
        "id": "2DaShVQXTi95"
      },
      "source": [
        "### Determining variable type with `type()`\n",
        "\n",
        "Objects in Python usually have **built-in functions**. These functions can perform actions on the object.\n",
        "\n",
        "For instance, we can check what type of object is assigned to a variable using Python's built-in `type()` function. "
      ]
    },
    {
      "cell_type": "code",
      "execution_count": null,
      "metadata": {
        "id": "nNHf02exTi96",
        "outputId": "d7e1cfc5-0d7f-421c-bf1c-a21ca69379c2"
      },
      "outputs": [
        {
          "data": {
            "text/plain": [
              "int"
            ]
          },
          "execution_count": 11,
          "metadata": {},
          "output_type": "execute_result"
        }
      ],
      "source": [
        "type(a)"
      ]
    },
    {
      "cell_type": "code",
      "execution_count": null,
      "metadata": {
        "id": "Z1weA2xiTi96"
      },
      "outputs": [],
      "source": [
        "a = (1,2)"
      ]
    },
    {
      "cell_type": "code",
      "execution_count": null,
      "metadata": {
        "id": "9QFw8bNkTi97",
        "outputId": "65f55ed8-2d92-4fd9-918e-f7edff2c6ab3"
      },
      "outputs": [
        {
          "data": {
            "text/plain": [
              "tuple"
            ]
          },
          "execution_count": 13,
          "metadata": {},
          "output_type": "execute_result"
        }
      ],
      "source": [
        "type(a)"
      ]
    },
    {
      "cell_type": "markdown",
      "metadata": {
        "id": "mb4wODp0Ti97"
      },
      "source": [
        "It is also important to note that the double equal `==` operator is used to test the equality of two expressions. The single equal `=` operator is only used to assign values to variables in Python. <br>Testing for inequality is performed with the not equal `!=` operator. <br>The greater than `>`, less than `<`, greater than or equal `>=`, less than or equal `<=` all perform as would generally be accepted. "
      ]
    },
    {
      "cell_type": "markdown",
      "metadata": {
        "id": "7EVfpy20Ti98"
      },
      "source": [
        "# 2.2 Numbers<a id=\"section2\"/>"
      ]
    },
    {
      "cell_type": "markdown",
      "metadata": {
        "id": "-1gFVo0DTi98"
      },
      "source": [
        "Python has several various types of number objects. \n",
        "\n",
        "**Integers** are whole numbers, positive or negative. For example: 2 and -2.\n",
        "\n",
        "**Floating point** numbers in Python have a decimal point, or use an exponential (e) to define the number. For example 2.0 and -2.1 are examples of floating point numbers. 4E2 (4 times 10 to the power of 2) is also an example of a floating point number in Python.\n",
        "\n",
        "Other types of number objects that are less frequently used inlcude **complex numbers** have real and imaginary parts (e.g., 3+4j), **decimal numbers** have control over the precision and rounding of numbers (e.g., `Decimal('0.1')`), **fractions** are rational numbers with numerator and denominator (e.g., `Fraction(1,3)`)."
      ]
    },
    {
      "cell_type": "markdown",
      "metadata": {
        "id": "oHcANH9yTi98"
      },
      "source": [
        "### Basic Arithmetic Operations"
      ]
    },
    {
      "cell_type": "code",
      "execution_count": null,
      "metadata": {
        "id": "qv7HFwhsTi99",
        "outputId": "d78affd3-e7e8-4fcb-f9cf-5b3a154e5a70"
      },
      "outputs": [
        {
          "data": {
            "text/plain": [
              "3"
            ]
          },
          "execution_count": 14,
          "metadata": {},
          "output_type": "execute_result"
        }
      ],
      "source": [
        "# Addition\n",
        "2+1"
      ]
    },
    {
      "cell_type": "code",
      "execution_count": null,
      "metadata": {
        "id": "EJeqy-3_Ti99",
        "outputId": "2c69d491-4a5f-4ab2-f694-e9394c38c8fe"
      },
      "outputs": [
        {
          "data": {
            "text/plain": [
              "1"
            ]
          },
          "execution_count": 15,
          "metadata": {},
          "output_type": "execute_result"
        }
      ],
      "source": [
        "# Subtraction\n",
        "2-1"
      ]
    },
    {
      "cell_type": "code",
      "execution_count": null,
      "metadata": {
        "id": "sp1tRd8uTi99",
        "outputId": "dae4ad0a-f320-45ac-94b2-f0cfd8ab19ba"
      },
      "outputs": [
        {
          "data": {
            "text/plain": [
              "4"
            ]
          },
          "execution_count": 16,
          "metadata": {},
          "output_type": "execute_result"
        }
      ],
      "source": [
        "# Multiplication\n",
        "2*2"
      ]
    },
    {
      "cell_type": "code",
      "execution_count": null,
      "metadata": {
        "id": "2JMBjeFMTi9-",
        "outputId": "d4789edd-8a25-4771-cd68-a83c41061968"
      },
      "outputs": [
        {
          "data": {
            "text/plain": [
              "1.5"
            ]
          },
          "execution_count": 17,
          "metadata": {},
          "output_type": "execute_result"
        }
      ],
      "source": [
        "# Division\n",
        "3/2"
      ]
    },
    {
      "cell_type": "code",
      "execution_count": null,
      "metadata": {
        "id": "GkQko1-NTi9-",
        "outputId": "69751dfe-3ec4-4936-f981-d2d451f73ba3"
      },
      "outputs": [
        {
          "data": {
            "text/plain": [
              "1"
            ]
          },
          "execution_count": 18,
          "metadata": {},
          "output_type": "execute_result"
        }
      ],
      "source": [
        "# Floor Division\n",
        "7//4"
      ]
    },
    {
      "cell_type": "markdown",
      "metadata": {
        "id": "vcvsp6KxTi9-"
      },
      "source": [
        "The `//` operator (two forward slashes) truncates the decimal without rounding, and returns an integer result."
      ]
    },
    {
      "cell_type": "markdown",
      "metadata": {
        "id": "dOh4IDUcTi9-"
      },
      "source": [
        "If we just want the remainder after division, we use the `%` modulo operator."
      ]
    },
    {
      "cell_type": "code",
      "execution_count": null,
      "metadata": {
        "id": "GRKkYV7sTi9_",
        "outputId": "0f749102-38a3-4bfa-a6bd-3f0cfe3c1901"
      },
      "outputs": [
        {
          "data": {
            "text/plain": [
              "3"
            ]
          },
          "execution_count": 19,
          "metadata": {},
          "output_type": "execute_result"
        }
      ],
      "source": [
        "# Modulo (remainder)\n",
        "7%4"
      ]
    },
    {
      "cell_type": "code",
      "execution_count": null,
      "metadata": {
        "id": "lePaB8VjTi9_",
        "outputId": "15e33b45-22f3-4542-bcdf-1c36a0984f35"
      },
      "outputs": [
        {
          "data": {
            "text/plain": [
              "8"
            ]
          },
          "execution_count": 20,
          "metadata": {},
          "output_type": "execute_result"
        }
      ],
      "source": [
        "# Powers (exponentiation)\n",
        "2**3"
      ]
    },
    {
      "cell_type": "code",
      "execution_count": null,
      "metadata": {
        "id": "UEq0xOUyTi9_",
        "outputId": "da474d18-d643-42f8-dc44-2cfaf185e40c"
      },
      "outputs": [
        {
          "data": {
            "text/plain": [
              "2.0"
            ]
          },
          "execution_count": 21,
          "metadata": {},
          "output_type": "execute_result"
        }
      ],
      "source": [
        "# Can also do roots this way\n",
        "4**0.5"
      ]
    },
    {
      "cell_type": "code",
      "execution_count": null,
      "metadata": {
        "id": "4qrLELAMTi-A",
        "outputId": "887752a5-dd13-4cf9-96d6-133ee21aa7df"
      },
      "outputs": [
        {
          "data": {
            "text/plain": [
              "105"
            ]
          },
          "execution_count": 22,
          "metadata": {},
          "output_type": "execute_result"
        }
      ],
      "source": [
        "# Order of Operations followed in Python\n",
        "2 + 10 * 10 + 3"
      ]
    },
    {
      "cell_type": "code",
      "execution_count": null,
      "metadata": {
        "id": "AtFoxn_qTi-A",
        "outputId": "30255b82-a694-4f28-da67-379363f626b0"
      },
      "outputs": [
        {
          "data": {
            "text/plain": [
              "156"
            ]
          },
          "execution_count": 23,
          "metadata": {},
          "output_type": "execute_result"
        }
      ],
      "source": [
        "# Can use parentheses to specify orders\n",
        "(2+10) * (10+3)"
      ]
    },
    {
      "cell_type": "markdown",
      "metadata": {
        "id": "VPow0aTfTi-A"
      },
      "source": [
        "Floating-point numbers are implemented in computer hardware as binary fractions (0 and 1). Many decimal fractions cannot be accurately represented as binaryu fractions. For example, the decimal number 0.1 results in an infinitely long binary fraction of 0.000110011001100110011... and our computer only stores a finite number of decimal places. This will only approximate 0.1 but never be equal. Hence, it is the limitation of our computer hardware and not an error in Python."
      ]
    },
    {
      "cell_type": "code",
      "execution_count": null,
      "metadata": {
        "id": "NNhCpPGdTi-A",
        "outputId": "a54b28d4-1382-4ffd-fe52-5acc1616ffac"
      },
      "outputs": [
        {
          "data": {
            "text/plain": [
              "0.30000000000000004"
            ]
          },
          "execution_count": 24,
          "metadata": {},
          "output_type": "execute_result"
        }
      ],
      "source": [
        "# Display issue in python, due to using binary data to represent all data\n",
        "f3 = 0.1 + 0.1 + 0.1 \n",
        "f3"
      ]
    },
    {
      "cell_type": "code",
      "execution_count": null,
      "metadata": {
        "id": "BIfptemMTi-B",
        "outputId": "2738e2bc-15e5-4b33-80cd-89ee147d1840"
      },
      "outputs": [
        {
          "data": {
            "text/plain": [
              "Decimal('0.3')"
            ]
          },
          "execution_count": 25,
          "metadata": {},
          "output_type": "execute_result"
        }
      ],
      "source": [
        "# One solution to that is to use decimal numbers, since they have rounding mechanisms to obtain exact representations\n",
        "from decimal import Decimal\n",
        "f4 = Decimal('0.1') + Decimal('0.1') + Decimal('0.1') \n",
        "f4"
      ]
    },
    {
      "cell_type": "markdown",
      "metadata": {
        "id": "DluYhuhpTi-B"
      },
      "source": [
        "If number types are mixed, Phython will do the conversion. "
      ]
    },
    {
      "cell_type": "code",
      "execution_count": null,
      "metadata": {
        "id": "aSdtYQj2Ti-B",
        "outputId": "b94d8071-3d6a-4961-bc24-4797a2961ce6"
      },
      "outputs": [
        {
          "name": "stdout",
          "output_type": "stream",
          "text": [
            "3.5\n"
          ]
        },
        {
          "data": {
            "text/plain": [
              "float"
            ]
          },
          "execution_count": 26,
          "metadata": {},
          "output_type": "execute_result"
        }
      ],
      "source": [
        "# Mix int and float; python will convert int to float first \n",
        "a = 1 + 2.5 \n",
        "print(a)\n",
        "type(a)"
      ]
    },
    {
      "cell_type": "code",
      "execution_count": null,
      "metadata": {
        "id": "7wWd9-52Ti-C",
        "outputId": "81689815-0e01-47c1-a938-f85b3253ba3e"
      },
      "outputs": [
        {
          "data": {
            "text/plain": [
              "False"
            ]
          },
          "execution_count": 27,
          "metadata": {},
          "output_type": "execute_result"
        }
      ],
      "source": [
        "# Logic comparison\n",
        "5<3"
      ]
    },
    {
      "cell_type": "code",
      "execution_count": null,
      "metadata": {
        "id": "ZHLbUFxeTi-F",
        "outputId": "fdad707f-53b7-4de1-eb09-23889c7670e0"
      },
      "outputs": [
        {
          "data": {
            "text/plain": [
              "float"
            ]
          },
          "execution_count": 28,
          "metadata": {},
          "output_type": "execute_result"
        }
      ],
      "source": [
        "# Convert between different types\n",
        "a = 2\n",
        "b = float(a)\n",
        "type(b)"
      ]
    },
    {
      "cell_type": "code",
      "execution_count": null,
      "metadata": {
        "id": "JBhScbm7Ti-G",
        "outputId": "c4fdf23b-1c4f-407d-e352-cc98929fabcf"
      },
      "outputs": [
        {
          "data": {
            "text/plain": [
              "int"
            ]
          },
          "execution_count": 29,
          "metadata": {},
          "output_type": "execute_result"
        }
      ],
      "source": [
        "c = int(b)\n",
        "type(c)"
      ]
    },
    {
      "cell_type": "markdown",
      "metadata": {
        "id": "74QRgTFLTi-G"
      },
      "source": [
        "### Build-in mathematical functions\n",
        "Examples are: pow, abs, round, type\n",
        "The functions are built into Python interpreter. We do not need to import any packages. Check the list of all built-in functions in Python:\n",
        "https://docs.python.org/3.10/library/functions.html"
      ]
    },
    {
      "cell_type": "code",
      "execution_count": null,
      "metadata": {
        "id": "49abHP0VTi-G",
        "outputId": "4f6c10b4-9444-4f5c-85f0-40cec9404adf"
      },
      "outputs": [
        {
          "data": {
            "text/plain": [
              "16"
            ]
          },
          "execution_count": 30,
          "metadata": {},
          "output_type": "execute_result"
        }
      ],
      "source": [
        "# Power (exponentiation)\n",
        "pow(2,4)"
      ]
    },
    {
      "cell_type": "code",
      "execution_count": null,
      "metadata": {
        "id": "TQfrf4DRTi-H",
        "outputId": "1b74e1f5-5be9-45a3-fe1a-bbdcead334aa"
      },
      "outputs": [
        {
          "data": {
            "text/plain": [
              "3"
            ]
          },
          "execution_count": 31,
          "metadata": {},
          "output_type": "execute_result"
        }
      ],
      "source": [
        "round(3.006)"
      ]
    },
    {
      "cell_type": "code",
      "execution_count": null,
      "metadata": {
        "id": "CZ5smz8aTi-H",
        "outputId": "eb317cc6-dada-4b6c-bb09-1c3a9bd5a03a"
      },
      "outputs": [
        {
          "data": {
            "text/plain": [
              "3.4"
            ]
          },
          "execution_count": 32,
          "metadata": {},
          "output_type": "execute_result"
        }
      ],
      "source": [
        "# Absolute value\n",
        "abs(-3.4) "
      ]
    },
    {
      "cell_type": "markdown",
      "metadata": {
        "id": "e_rlMDSSTi-H"
      },
      "source": [
        "### Python Modules for Numerical Operations\n",
        "We can import Python modules, such as `math`, `random` to perform mathematical operations. \n",
        "https://docs.python.org/3.10/library/math.html#module-math"
      ]
    },
    {
      "cell_type": "code",
      "execution_count": null,
      "metadata": {
        "id": "1ZNku_2FTi-H",
        "outputId": "c8764369-14f5-46ac-a09d-50e49ec8b54d"
      },
      "outputs": [
        {
          "data": {
            "text/plain": [
              "3"
            ]
          },
          "execution_count": 33,
          "metadata": {},
          "output_type": "execute_result"
        }
      ],
      "source": [
        "import math\n",
        "\n",
        "math.floor(3.006)"
      ]
    },
    {
      "cell_type": "code",
      "execution_count": null,
      "metadata": {
        "id": "EaijZf5BTi-I",
        "outputId": "b5dc2094-b2b9-4182-b318-b94b158e8fae"
      },
      "outputs": [
        {
          "name": "stdout",
          "output_type": "stream",
          "text": [
            "0.08829086647051909\n"
          ]
        }
      ],
      "source": [
        "import random\n",
        "\n",
        "# Return a random flaoting point number in the range 0-1\n",
        "r = random.random()\n",
        "print(r)"
      ]
    },
    {
      "cell_type": "code",
      "execution_count": null,
      "metadata": {
        "id": "ScNzQhn8Ti-I",
        "outputId": "51106f4d-167f-4e00-abd4-0840679df406"
      },
      "outputs": [
        {
          "name": "stdout",
          "output_type": "stream",
          "text": [
            "Help on built-in function pow in module builtins:\n",
            "\n",
            "pow(x, y, z=None, /)\n",
            "    Equivalent to x**y (with two arguments) or x**y % z (with three arguments)\n",
            "    \n",
            "    Some types, such as ints, are able to use a more efficient algorithm when\n",
            "    invoked using the three argument form.\n",
            "\n"
          ]
        }
      ],
      "source": [
        "# Check documentation for help about built-in functions\n",
        "help(pow) "
      ]
    },
    {
      "cell_type": "markdown",
      "metadata": {
        "id": "vrNYW5-0Ti-J"
      },
      "source": [
        "# 2.3 Strings <a id=\"section3\"/>"
      ]
    },
    {
      "cell_type": "markdown",
      "metadata": {
        "id": "iaM09UUrTi-J"
      },
      "source": [
        "> A ***string*** is an immutable sequence containing letters, words, and other characters.\n",
        "\n",
        "Strings are used in Python to record text information, such as names. Strings in Python are *sequences*, which means that Python keeps track of every element in the string, and we use indexing to get particular elements."
      ]
    },
    {
      "cell_type": "markdown",
      "metadata": {
        "id": "iPIAmhCeTi-J"
      },
      "source": [
        "### Creating a String\n",
        "To create a string in Python we can use either single quotes or double quotes."
      ]
    },
    {
      "cell_type": "code",
      "execution_count": null,
      "metadata": {
        "id": "B-y52HlNTi-J",
        "outputId": "c4644b81-50df-400f-91e5-a705794db962"
      },
      "outputs": [
        {
          "data": {
            "text/plain": [
              "'hello'"
            ]
          },
          "execution_count": 36,
          "metadata": {},
          "output_type": "execute_result"
        }
      ],
      "source": [
        "# Single word\n",
        "'hello'"
      ]
    },
    {
      "cell_type": "code",
      "execution_count": null,
      "metadata": {
        "id": "vzE8WnOfTi-K",
        "outputId": "a6839885-5710-4482-f9b2-02f2ae071693"
      },
      "outputs": [
        {
          "data": {
            "text/plain": [
              "'This is also a string'"
            ]
          },
          "execution_count": 37,
          "metadata": {},
          "output_type": "execute_result"
        }
      ],
      "source": [
        "# Entire phrase \n",
        "'This is also a string'"
      ]
    },
    {
      "cell_type": "code",
      "execution_count": null,
      "metadata": {
        "id": "JD5tKitUTi-K",
        "outputId": "b5c4a609-7534-41af-c8de-d2f9e31b7a53"
      },
      "outputs": [
        {
          "data": {
            "text/plain": [
              "'String built with double quotes'"
            ]
          },
          "execution_count": 38,
          "metadata": {},
          "output_type": "execute_result"
        }
      ],
      "source": [
        "# We can also use double quote\n",
        "\"String built with double quotes\""
      ]
    },
    {
      "cell_type": "markdown",
      "metadata": {
        "id": "yHkf3X9TTi-K"
      },
      "source": [
        "Note that the code below shows an error, because the single quote in <code>I'm</code> stopped the string. "
      ]
    },
    {
      "cell_type": "code",
      "execution_count": null,
      "metadata": {
        "id": "QGt_a0uKTi-K",
        "outputId": "934f4768-a8b0-4c7b-8948-48e1500cad0d"
      },
      "outputs": [
        {
          "ename": "SyntaxError",
          "evalue": "invalid syntax (<ipython-input-39-da9a34b3dc31>, line 2)",
          "output_type": "error",
          "traceback": [
            "\u001b[1;36m  File \u001b[1;32m\"<ipython-input-39-da9a34b3dc31>\"\u001b[1;36m, line \u001b[1;32m2\u001b[0m\n\u001b[1;33m    ' I'm using single quotes, but this will create an error'\u001b[0m\n\u001b[1;37m        ^\u001b[0m\n\u001b[1;31mSyntaxError\u001b[0m\u001b[1;31m:\u001b[0m invalid syntax\n"
          ]
        }
      ],
      "source": [
        "# Be careful with quotes!\n",
        "' I'm using single quotes, but this will create an error'"
      ]
    },
    {
      "cell_type": "markdown",
      "metadata": {
        "id": "YLzXcQQDTi-L"
      },
      "source": [
        "You can use combinations of double and single quotes to get the complete statement."
      ]
    },
    {
      "cell_type": "code",
      "execution_count": null,
      "metadata": {
        "id": "_4W1sqMOTi-L",
        "outputId": "4387be33-3915-4a1e-e527-ef19c0a21983"
      },
      "outputs": [
        {
          "data": {
            "text/plain": [
              "\"Now I'm ready to use the single quotes inside a string!\""
            ]
          },
          "execution_count": 40,
          "metadata": {},
          "output_type": "execute_result"
        }
      ],
      "source": [
        "\"Now I'm ready to use the single quotes inside a string!\""
      ]
    },
    {
      "cell_type": "markdown",
      "metadata": {
        "id": "E9GGxAztTi-L"
      },
      "source": [
        "### Printing a String\n",
        "\n",
        "Using Jupyter notebook with just a string in a cell will automatically output strings, but the correct way to display strings in your output is by using a **print** function."
      ]
    },
    {
      "cell_type": "code",
      "execution_count": null,
      "metadata": {
        "id": "S3EQvlvUTi-M",
        "outputId": "f35dfe40-57f1-4bd5-b883-d76d6020b280"
      },
      "outputs": [
        {
          "data": {
            "text/plain": [
              "'Hello World'"
            ]
          },
          "execution_count": 41,
          "metadata": {},
          "output_type": "execute_result"
        }
      ],
      "source": [
        "# We can simply declare a string\n",
        "'Hello World'"
      ]
    },
    {
      "cell_type": "code",
      "execution_count": null,
      "metadata": {
        "id": "ADOVaYHcTi-N",
        "outputId": "ca585bb0-3604-4c3f-ca22-6a6f3ac3381e"
      },
      "outputs": [
        {
          "data": {
            "text/plain": [
              "'Hello World 2'"
            ]
          },
          "execution_count": 42,
          "metadata": {},
          "output_type": "execute_result"
        }
      ],
      "source": [
        "# Note that we can't output multiple strings this way; only the last string is displayed\n",
        "'Hello World 1'\n",
        "'Hello World 2'"
      ]
    },
    {
      "cell_type": "markdown",
      "metadata": {
        "id": "PQ6iNBYvTi-N"
      },
      "source": [
        "We can use a print statement to print a string, or mulitple strings in a cell."
      ]
    },
    {
      "cell_type": "code",
      "execution_count": null,
      "metadata": {
        "id": "hCwt9mqqTi-N",
        "outputId": "4898a838-5ecb-46b2-bcd1-35c0dda04a55"
      },
      "outputs": [
        {
          "name": "stdout",
          "output_type": "stream",
          "text": [
            "Hello World 1\n",
            "Hello World 2\n",
            "Use \n",
            " to print a new line\n",
            "\n",
            "\n",
            "See what I mean?\n"
          ]
        }
      ],
      "source": [
        "print('Hello World 1')\n",
        "print('Hello World 2')\n",
        "print('Use \\n to print a new line') # \\n prints a new line\n",
        "print('\\n')\n",
        "print('See what I mean?')"
      ]
    },
    {
      "cell_type": "markdown",
      "metadata": {
        "id": "td2k1iGsTi-O"
      },
      "source": [
        "\n",
        "We can also use the built-in function **len()** to check the length of a string. It counts all of the characters in the string, including spaces and punctuation."
      ]
    },
    {
      "cell_type": "code",
      "execution_count": null,
      "metadata": {
        "id": "9g8U52-UTi-O",
        "outputId": "68213560-a5dd-425e-8b99-97890eecc2d4"
      },
      "outputs": [
        {
          "data": {
            "text/plain": [
              "11"
            ]
          },
          "execution_count": 44,
          "metadata": {},
          "output_type": "execute_result"
        }
      ],
      "source": [
        "len('Hello World')"
      ]
    },
    {
      "cell_type": "markdown",
      "metadata": {
        "id": "2wHlqi_oTi-O"
      },
      "source": [
        "### String Indexing\n",
        "Since strings are sequences, Python can use indexes to call parts of the sequence.\n",
        "\n",
        "**Indexing** starts at 0 for Python. "
      ]
    },
    {
      "cell_type": "code",
      "execution_count": null,
      "metadata": {
        "id": "duq_rFf0Ti-O"
      },
      "outputs": [],
      "source": [
        "# Assign s as a string\n",
        "s = 'Hello World'"
      ]
    },
    {
      "cell_type": "code",
      "execution_count": null,
      "metadata": {
        "id": "r7xAq5taTi-P",
        "outputId": "647cdebb-1d74-4217-e9a2-e5051a861fb9"
      },
      "outputs": [
        {
          "data": {
            "text/plain": [
              "'Hello World'"
            ]
          },
          "execution_count": 46,
          "metadata": {},
          "output_type": "execute_result"
        }
      ],
      "source": [
        "#Check\n",
        "s"
      ]
    },
    {
      "cell_type": "code",
      "execution_count": null,
      "metadata": {
        "id": "CrQTn8RRTi-P",
        "outputId": "5f4750bb-0005-47bd-d4d5-d5f97ca65bf2"
      },
      "outputs": [
        {
          "name": "stdout",
          "output_type": "stream",
          "text": [
            "Hello World\n"
          ]
        }
      ],
      "source": [
        "# Print the object\n",
        "print(s) "
      ]
    },
    {
      "cell_type": "code",
      "execution_count": null,
      "metadata": {
        "id": "3a4p-nO5Ti-P",
        "outputId": "50b04abd-fd7b-4a83-a28d-94f4e2ddec0b"
      },
      "outputs": [
        {
          "data": {
            "text/plain": [
              "str"
            ]
          },
          "execution_count": 48,
          "metadata": {},
          "output_type": "execute_result"
        }
      ],
      "source": [
        "type(s)"
      ]
    },
    {
      "cell_type": "code",
      "execution_count": null,
      "metadata": {
        "id": "NWZtVyxXTi-Q",
        "outputId": "2685854e-c0ff-45a6-daa3-c263e74f27bc"
      },
      "outputs": [
        {
          "data": {
            "text/plain": [
              "'H'"
            ]
          },
          "execution_count": 49,
          "metadata": {},
          "output_type": "execute_result"
        }
      ],
      "source": [
        "# Show first element\n",
        "s[0]"
      ]
    },
    {
      "cell_type": "markdown",
      "metadata": {
        "id": "8hjgxwGjTi-Q"
      },
      "source": [
        "Use a <code>:</code> to perform **slicing** which grabs everything up to a designated point."
      ]
    },
    {
      "cell_type": "code",
      "execution_count": null,
      "metadata": {
        "id": "CSsLbhQqTi-Q",
        "outputId": "875401b3-51d1-4dfd-ded8-11487d638380"
      },
      "outputs": [
        {
          "data": {
            "text/plain": [
              "'ello World'"
            ]
          },
          "execution_count": 50,
          "metadata": {},
          "output_type": "execute_result"
        }
      ],
      "source": [
        "# Grab everything past the first term all the way to the length of s which is len(s)\n",
        "s[1:]"
      ]
    },
    {
      "cell_type": "code",
      "execution_count": null,
      "metadata": {
        "id": "f5pD6MmZTi-R",
        "outputId": "62344dbc-4fda-430f-fe88-d68c2d96ae76"
      },
      "outputs": [
        {
          "data": {
            "text/plain": [
              "'Hello World'"
            ]
          },
          "execution_count": 51,
          "metadata": {},
          "output_type": "execute_result"
        }
      ],
      "source": [
        "# Note that there is no change to the original s\n",
        "s"
      ]
    },
    {
      "cell_type": "code",
      "execution_count": null,
      "metadata": {
        "id": "gBVbpXcHTi-R",
        "outputId": "6695b3cd-1aa4-4a48-e6a9-cca21876d72f"
      },
      "outputs": [
        {
          "data": {
            "text/plain": [
              "'Hel'"
            ]
          },
          "execution_count": 52,
          "metadata": {},
          "output_type": "execute_result"
        }
      ],
      "source": [
        "# Grab everything UP TO the 3rd index\n",
        "s[:3]"
      ]
    },
    {
      "cell_type": "markdown",
      "metadata": {
        "id": "FkHxEQGpTi-R"
      },
      "source": [
        "The above slicing doesn't include the 3rd index. In Python, statements are usually in the context of \"up to, but not including\"."
      ]
    },
    {
      "cell_type": "code",
      "execution_count": null,
      "metadata": {
        "id": "GmpHRJ2dTi-R",
        "outputId": "8775b213-d523-4162-cdaa-fec4ef758e91"
      },
      "outputs": [
        {
          "data": {
            "text/plain": [
              "'Hello World'"
            ]
          },
          "execution_count": 53,
          "metadata": {},
          "output_type": "execute_result"
        }
      ],
      "source": [
        "#Everything\n",
        "s[:]"
      ]
    },
    {
      "cell_type": "markdown",
      "metadata": {
        "id": "zQeUWMl2Ti-S"
      },
      "source": [
        "We can also use negative indexing to go backwards."
      ]
    },
    {
      "cell_type": "code",
      "execution_count": null,
      "metadata": {
        "id": "BQwhI1b2Ti-S",
        "outputId": "a8a1b17f-9c49-4748-c963-57a2e935c8c6"
      },
      "outputs": [
        {
          "data": {
            "text/plain": [
              "'d'"
            ]
          },
          "execution_count": 54,
          "metadata": {},
          "output_type": "execute_result"
        }
      ],
      "source": [
        "# Last letter (one index behind 0 so it loops back around)\n",
        "s[-1]"
      ]
    },
    {
      "cell_type": "code",
      "execution_count": null,
      "metadata": {
        "id": "mk4onvgwTi-S",
        "outputId": "a13184f6-af01-4476-8001-98d96938770f"
      },
      "outputs": [
        {
          "data": {
            "text/plain": [
              "'Hello Worl'"
            ]
          },
          "execution_count": 55,
          "metadata": {},
          "output_type": "execute_result"
        }
      ],
      "source": [
        "# Grab everything but the last letter\n",
        "s[:-1]"
      ]
    },
    {
      "cell_type": "markdown",
      "metadata": {
        "id": "bgJxsBzxTi-S"
      },
      "source": [
        "We can also use index and slice notation to grab elements of a sequence by a specified step size (the default is 1). For instance we can use two colons in a row and then a number specifying the frequency to grab elements. For example:"
      ]
    },
    {
      "cell_type": "code",
      "execution_count": null,
      "metadata": {
        "id": "ZARypiWATi-T",
        "outputId": "c09f5aba-3d0d-4f22-891a-4d8335359b35"
      },
      "outputs": [
        {
          "data": {
            "text/plain": [
              "'Hello World'"
            ]
          },
          "execution_count": 56,
          "metadata": {},
          "output_type": "execute_result"
        }
      ],
      "source": [
        "# Grab everything, but go in steps size of 1\n",
        "s[::1]"
      ]
    },
    {
      "cell_type": "code",
      "execution_count": null,
      "metadata": {
        "id": "tG9WFHjaTi-T",
        "outputId": "eb2d71cf-8bea-4358-e56e-229de0d1feff"
      },
      "outputs": [
        {
          "data": {
            "text/plain": [
              "'HloWrd'"
            ]
          },
          "execution_count": 57,
          "metadata": {},
          "output_type": "execute_result"
        }
      ],
      "source": [
        "# Grab everything, but go in step sizes of 2\n",
        "s[::2]"
      ]
    },
    {
      "cell_type": "code",
      "execution_count": null,
      "metadata": {
        "id": "5H42ljOITi-T",
        "outputId": "d8498468-77dc-4f6f-cee6-91776be4130c"
      },
      "outputs": [
        {
          "data": {
            "text/plain": [
              "'dlroW olleH'"
            ]
          },
          "execution_count": 58,
          "metadata": {},
          "output_type": "execute_result"
        }
      ],
      "source": [
        "# We can use this to print a string backwards\n",
        "s[::-1]"
      ]
    },
    {
      "cell_type": "markdown",
      "metadata": {
        "id": "JErbbcnHTi-T"
      },
      "source": [
        "### String Properties\n",
        "Strings are *immutable*. Once a string is created, the elements within it **can not** be changed or replaced. "
      ]
    },
    {
      "cell_type": "code",
      "execution_count": null,
      "metadata": {
        "id": "SPvo09tWTi-U",
        "outputId": "c63a3e75-285a-42d8-e57f-66a1dd20f228"
      },
      "outputs": [
        {
          "data": {
            "text/plain": [
              "'Hello World'"
            ]
          },
          "execution_count": 59,
          "metadata": {},
          "output_type": "execute_result"
        }
      ],
      "source": [
        "s"
      ]
    },
    {
      "cell_type": "code",
      "execution_count": null,
      "metadata": {
        "id": "mZGNALcaTi-U",
        "outputId": "e9f70cde-7032-40bc-ba80-2381faa6ceb7"
      },
      "outputs": [
        {
          "ename": "TypeError",
          "evalue": "'str' object does not support item assignment",
          "output_type": "error",
          "traceback": [
            "\u001b[1;31m---------------------------------------------------------------------------\u001b[0m",
            "\u001b[1;31mTypeError\u001b[0m                                 Traceback (most recent call last)",
            "\u001b[1;32m<ipython-input-60-976942677f11>\u001b[0m in \u001b[0;36m<module>\u001b[1;34m\u001b[0m\n\u001b[0;32m      1\u001b[0m \u001b[1;31m# Let's try to change the first letter to 'x'\u001b[0m\u001b[1;33m\u001b[0m\u001b[1;33m\u001b[0m\u001b[1;33m\u001b[0m\u001b[0m\n\u001b[1;32m----> 2\u001b[1;33m \u001b[0ms\u001b[0m\u001b[1;33m[\u001b[0m\u001b[1;36m0\u001b[0m\u001b[1;33m]\u001b[0m \u001b[1;33m=\u001b[0m \u001b[1;34m'x'\u001b[0m\u001b[1;33m\u001b[0m\u001b[1;33m\u001b[0m\u001b[0m\n\u001b[0m",
            "\u001b[1;31mTypeError\u001b[0m: 'str' object does not support item assignment"
          ]
        }
      ],
      "source": [
        "# Let's try to change the first letter to 'x'\n",
        "s[0] = 'x'"
      ]
    },
    {
      "cell_type": "markdown",
      "metadata": {
        "id": "43644BlrTi-V"
      },
      "source": [
        "Something we can do is concatenate strings!"
      ]
    },
    {
      "cell_type": "code",
      "execution_count": null,
      "metadata": {
        "id": "wJu15qskTi-V",
        "outputId": "f8178b27-64d0-4d19-c634-0d91aa407eb3"
      },
      "outputs": [
        {
          "data": {
            "text/plain": [
              "'Hello World'"
            ]
          },
          "execution_count": 61,
          "metadata": {},
          "output_type": "execute_result"
        }
      ],
      "source": [
        "s"
      ]
    },
    {
      "cell_type": "code",
      "execution_count": null,
      "metadata": {
        "id": "bd2eDEpkTi-V",
        "outputId": "82553449-acef-4f9c-82f3-8ae2313d03d7"
      },
      "outputs": [
        {
          "data": {
            "text/plain": [
              "'Hello World concatenate me!'"
            ]
          },
          "execution_count": 62,
          "metadata": {},
          "output_type": "execute_result"
        }
      ],
      "source": [
        "# Concatenate strings!\n",
        "s + ' concatenate me!'"
      ]
    },
    {
      "cell_type": "code",
      "execution_count": null,
      "metadata": {
        "id": "knt_6I39Ti-V"
      },
      "outputs": [],
      "source": [
        "# We can reassign s completely\n",
        "s = s + ' concatenate me!'"
      ]
    },
    {
      "cell_type": "code",
      "execution_count": null,
      "metadata": {
        "id": "hiSWY8stTi-W",
        "outputId": "da35966a-b6c5-45fd-c359-4d29a744cd8f"
      },
      "outputs": [
        {
          "name": "stdout",
          "output_type": "stream",
          "text": [
            "Hello World concatenate me!\n"
          ]
        }
      ],
      "source": [
        "print(s)"
      ]
    },
    {
      "cell_type": "markdown",
      "metadata": {
        "id": "sk7F41ilTi-W"
      },
      "source": [
        "We can use the multiplication symbol to create repetition."
      ]
    },
    {
      "cell_type": "code",
      "execution_count": null,
      "metadata": {
        "id": "SVV1D6tnTi-W",
        "outputId": "225d1a16-343b-4988-b12c-563b83070805"
      },
      "outputs": [
        {
          "data": {
            "text/plain": [
              "'zzzzzzzzzz'"
            ]
          },
          "execution_count": 65,
          "metadata": {},
          "output_type": "execute_result"
        }
      ],
      "source": [
        "letter = 'z'\n",
        "letter*10"
      ]
    },
    {
      "cell_type": "markdown",
      "metadata": {
        "id": "AxPxLmiLTi-W"
      },
      "source": [
        "### Basic Built-in String Methods\n",
        "\n",
        "Objects in Python can also have built-in methods. Methods are called with a period followed by the method name. Parameters are extra arguments we can pass into the method.\n",
        "\n",
        "`object.method(parameters)`\n",
        "\n",
        "Here are some examples of built-in methods in strings:"
      ]
    },
    {
      "cell_type": "code",
      "execution_count": null,
      "metadata": {
        "id": "VrvqNIm8Ti-X",
        "outputId": "9d179899-0b63-474d-9d8f-931968ad315d"
      },
      "outputs": [
        {
          "data": {
            "text/plain": [
              "'Hello World concatenate me!'"
            ]
          },
          "execution_count": 66,
          "metadata": {},
          "output_type": "execute_result"
        }
      ],
      "source": [
        "s"
      ]
    },
    {
      "cell_type": "code",
      "execution_count": null,
      "metadata": {
        "id": "QjzJhJ20Ti-X",
        "outputId": "55310867-03b7-4428-f217-1329ab532146"
      },
      "outputs": [
        {
          "data": {
            "text/plain": [
              "'HELLO WORLD CONCATENATE ME!'"
            ]
          },
          "execution_count": 67,
          "metadata": {},
          "output_type": "execute_result"
        }
      ],
      "source": [
        "# Upper Case a string\n",
        "s.upper()"
      ]
    },
    {
      "cell_type": "code",
      "execution_count": null,
      "metadata": {
        "id": "Tkq2zb2uTi-X",
        "outputId": "c40a0008-7633-4010-e122-ae7360d26c00"
      },
      "outputs": [
        {
          "data": {
            "text/plain": [
              "'hello world concatenate me!'"
            ]
          },
          "execution_count": 68,
          "metadata": {},
          "output_type": "execute_result"
        }
      ],
      "source": [
        "# Lower case\n",
        "s.lower()"
      ]
    },
    {
      "cell_type": "code",
      "execution_count": null,
      "metadata": {
        "id": "4DoGfVpITi-X",
        "outputId": "ca7a49fe-7857-44cc-be39-6a4b60ab2b89"
      },
      "outputs": [
        {
          "data": {
            "text/plain": [
              "['Hello', 'World', 'concatenate', 'me!']"
            ]
          },
          "execution_count": 69,
          "metadata": {},
          "output_type": "execute_result"
        }
      ],
      "source": [
        "# Split a string by blank space (this is the default)\n",
        "s.split()"
      ]
    },
    {
      "cell_type": "code",
      "execution_count": null,
      "metadata": {
        "id": "EA7fwYBNTi-Y",
        "outputId": "b58aa735-cd6e-47e9-a0b9-5e3121f726e7"
      },
      "outputs": [
        {
          "data": {
            "text/plain": [
              "['Hello ', 'orld concatenate me!']"
            ]
          },
          "execution_count": 70,
          "metadata": {},
          "output_type": "execute_result"
        }
      ],
      "source": [
        "# Split by a specific element (doesn't include the element that was split on)\n",
        "s.split('W')"
      ]
    },
    {
      "cell_type": "code",
      "execution_count": null,
      "metadata": {
        "id": "lyvhdWgDTi-Y",
        "outputId": "f59bd288-1c5f-42b9-b04c-6b50654b0474"
      },
      "outputs": [
        {
          "data": {
            "text/plain": [
              "['__add__',\n",
              " '__class__',\n",
              " '__contains__',\n",
              " '__delattr__',\n",
              " '__dir__',\n",
              " '__doc__',\n",
              " '__eq__',\n",
              " '__format__',\n",
              " '__ge__',\n",
              " '__getattribute__',\n",
              " '__getitem__',\n",
              " '__getnewargs__',\n",
              " '__gt__',\n",
              " '__hash__',\n",
              " '__init__',\n",
              " '__init_subclass__',\n",
              " '__iter__',\n",
              " '__le__',\n",
              " '__len__',\n",
              " '__lt__',\n",
              " '__mod__',\n",
              " '__mul__',\n",
              " '__ne__',\n",
              " '__new__',\n",
              " '__reduce__',\n",
              " '__reduce_ex__',\n",
              " '__repr__',\n",
              " '__rmod__',\n",
              " '__rmul__',\n",
              " '__setattr__',\n",
              " '__sizeof__',\n",
              " '__str__',\n",
              " '__subclasshook__',\n",
              " 'capitalize',\n",
              " 'casefold',\n",
              " 'center',\n",
              " 'count',\n",
              " 'encode',\n",
              " 'endswith',\n",
              " 'expandtabs',\n",
              " 'find',\n",
              " 'format',\n",
              " 'format_map',\n",
              " 'index',\n",
              " 'isalnum',\n",
              " 'isalpha',\n",
              " 'isdecimal',\n",
              " 'isdigit',\n",
              " 'isidentifier',\n",
              " 'islower',\n",
              " 'isnumeric',\n",
              " 'isprintable',\n",
              " 'isspace',\n",
              " 'istitle',\n",
              " 'isupper',\n",
              " 'join',\n",
              " 'ljust',\n",
              " 'lower',\n",
              " 'lstrip',\n",
              " 'maketrans',\n",
              " 'partition',\n",
              " 'replace',\n",
              " 'rfind',\n",
              " 'rindex',\n",
              " 'rjust',\n",
              " 'rpartition',\n",
              " 'rsplit',\n",
              " 'rstrip',\n",
              " 'split',\n",
              " 'splitlines',\n",
              " 'startswith',\n",
              " 'strip',\n",
              " 'swapcase',\n",
              " 'title',\n",
              " 'translate',\n",
              " 'upper',\n",
              " 'zfill']"
            ]
          },
          "execution_count": 71,
          "metadata": {},
          "output_type": "execute_result"
        }
      ],
      "source": [
        "# Check all buil-in methods for the string s\n",
        " dir(s)"
      ]
    },
    {
      "cell_type": "markdown",
      "metadata": {
        "id": "drqh1imzTi-Y"
      },
      "source": [
        "Please see the [appendix](#section9) for information on string formatting. "
      ]
    },
    {
      "cell_type": "markdown",
      "metadata": {
        "id": "DagJDn3MTi-Z"
      },
      "source": [
        "# 2.4 Lists<a id=\"section4\"/>"
      ]
    },
    {
      "cell_type": "markdown",
      "metadata": {
        "id": "zC897wg5Ti-Z"
      },
      "source": [
        "> A ***list*** is a mutable ordered sequence of elements, written as a series of items within square brackets.\n",
        "\n",
        "Lists can be thought of the most general version of a *sequence* in Python. Unlike strings, they are mutable, meaning the elements inside a list can be changed.\n",
        "\n",
        "Lists are constructed with brackets `[]` and commas separating every element in the list."
      ]
    },
    {
      "cell_type": "code",
      "execution_count": null,
      "metadata": {
        "id": "LC1BDZvwTi-Z"
      },
      "outputs": [],
      "source": [
        "# Assign a list to an variable named my_list\n",
        "my_list = [1,2,3]"
      ]
    },
    {
      "cell_type": "markdown",
      "metadata": {
        "id": "EHr6Cj0oTi-a"
      },
      "source": [
        "Lists can  hold different object types. For example:"
      ]
    },
    {
      "cell_type": "code",
      "execution_count": null,
      "metadata": {
        "id": "loLsXfDHTi-a",
        "outputId": "d29ccd2a-70e9-4bf4-da40-b3e61ceb2fbc"
      },
      "outputs": [
        {
          "data": {
            "text/plain": [
              "['A string', 23, 100.232, 'o']"
            ]
          },
          "execution_count": 75,
          "metadata": {},
          "output_type": "execute_result"
        }
      ],
      "source": [
        "my_list = ['A string',23,100.232,'o']\n",
        "my_list"
      ]
    },
    {
      "cell_type": "markdown",
      "metadata": {
        "id": "zfNsKBe2Ti-a"
      },
      "source": [
        "Just like strings, the `len()` built-in function will tell you how many items are in the sequence of the list."
      ]
    },
    {
      "cell_type": "code",
      "execution_count": null,
      "metadata": {
        "id": "Yv7nwYdbTi-b",
        "outputId": "b84dbd26-e1f6-4a2a-eb16-e2d0eb9080c6"
      },
      "outputs": [
        {
          "data": {
            "text/plain": [
              "4"
            ]
          },
          "execution_count": 74,
          "metadata": {},
          "output_type": "execute_result"
        }
      ],
      "source": [
        "len(my_list)"
      ]
    },
    {
      "cell_type": "markdown",
      "metadata": {
        "id": "TVwaBIRATi-b"
      },
      "source": [
        "### Indexing and Slicing\n",
        "Indexing and slicing work just like in strings."
      ]
    },
    {
      "cell_type": "code",
      "execution_count": null,
      "metadata": {
        "id": "GGUheicTTi-b",
        "outputId": "b1ce4c99-5f7f-4217-f76a-5035100fce6d"
      },
      "outputs": [
        {
          "data": {
            "text/plain": [
              "'one'"
            ]
          },
          "execution_count": 76,
          "metadata": {},
          "output_type": "execute_result"
        }
      ],
      "source": [
        "my_list = ['one','two','three',4,5]\n",
        "\n",
        "# Grab element at index 0\n",
        "my_list[0]"
      ]
    },
    {
      "cell_type": "code",
      "execution_count": null,
      "metadata": {
        "id": "eA8ZZrg4Ti-b",
        "outputId": "ade01488-e48e-42ab-a38c-91be8814218e"
      },
      "outputs": [
        {
          "data": {
            "text/plain": [
              "['one', 'two', 'three']"
            ]
          },
          "execution_count": 77,
          "metadata": {},
          "output_type": "execute_result"
        }
      ],
      "source": [
        "# Grab everything UP TO index 3\n",
        "my_list[:3]"
      ]
    },
    {
      "cell_type": "markdown",
      "metadata": {
        "id": "n4vGDunjTi-c"
      },
      "source": [
        "We can also use + to concatenate lists, just like we did for strings."
      ]
    },
    {
      "cell_type": "code",
      "execution_count": null,
      "metadata": {
        "id": "8t39YnLyTi-c",
        "outputId": "39e696d5-f310-4175-9037-9f751440de9f"
      },
      "outputs": [
        {
          "data": {
            "text/plain": [
              "['one', 'two', 'three', 4, 5, 'new item']"
            ]
          },
          "execution_count": 78,
          "metadata": {},
          "output_type": "execute_result"
        }
      ],
      "source": [
        "my_list + ['new item']"
      ]
    },
    {
      "cell_type": "markdown",
      "metadata": {
        "id": "f0_eIHU2Ti-c"
      },
      "source": [
        "Note: This doesn't actually change the original list."
      ]
    },
    {
      "cell_type": "code",
      "execution_count": null,
      "metadata": {
        "id": "yjyolaCsTi-d",
        "outputId": "1d8adc81-2676-4dc1-a169-1ac840d699bb"
      },
      "outputs": [
        {
          "data": {
            "text/plain": [
              "['one', 'two', 'three', 4, 5]"
            ]
          },
          "execution_count": 79,
          "metadata": {},
          "output_type": "execute_result"
        }
      ],
      "source": [
        "my_list"
      ]
    },
    {
      "cell_type": "markdown",
      "metadata": {
        "id": "kiR5_MVBTi-d"
      },
      "source": [
        "You would have to reassign the list to make the change permanent."
      ]
    },
    {
      "cell_type": "code",
      "execution_count": null,
      "metadata": {
        "id": "S1_K6Y2oTi-d"
      },
      "outputs": [],
      "source": [
        "# Reassign\n",
        "my_list = my_list + ['add new item permanently']"
      ]
    },
    {
      "cell_type": "code",
      "execution_count": null,
      "metadata": {
        "id": "8wtij7gVTi-e",
        "outputId": "d483e47a-9bcb-4f51-a6f6-8784302d1cb3"
      },
      "outputs": [
        {
          "data": {
            "text/plain": [
              "['one', 'two', 'three', 4, 5, 'add new item permanently']"
            ]
          },
          "execution_count": 81,
          "metadata": {},
          "output_type": "execute_result"
        }
      ],
      "source": [
        "my_list"
      ]
    },
    {
      "cell_type": "markdown",
      "metadata": {
        "id": "qJ_3VcaUTi-e"
      },
      "source": [
        "We can also use the * for a duplication method similar to strings:"
      ]
    },
    {
      "cell_type": "code",
      "execution_count": null,
      "metadata": {
        "id": "FfNdlhOXTi-e",
        "outputId": "10e798cb-20f0-4245-bd5d-978543c1c365"
      },
      "outputs": [
        {
          "data": {
            "text/plain": [
              "['one',\n",
              " 'two',\n",
              " 'three',\n",
              " 4,\n",
              " 5,\n",
              " 'add new item permanently',\n",
              " 'one',\n",
              " 'two',\n",
              " 'three',\n",
              " 4,\n",
              " 5,\n",
              " 'add new item permanently']"
            ]
          },
          "execution_count": 82,
          "metadata": {},
          "output_type": "execute_result"
        }
      ],
      "source": [
        "# Make the list double\n",
        "my_list * 2"
      ]
    },
    {
      "cell_type": "code",
      "execution_count": null,
      "metadata": {
        "id": "hMfAgh2_Ti-e",
        "outputId": "e85b4455-372c-4458-d863-dc47a4bfed8b"
      },
      "outputs": [
        {
          "data": {
            "text/plain": [
              "['one', 'two', 'three', 4, 5, 'add new item permanently']"
            ]
          },
          "execution_count": 83,
          "metadata": {},
          "output_type": "execute_result"
        }
      ],
      "source": [
        "# Again doubling is not permanent\n",
        "my_list"
      ]
    },
    {
      "cell_type": "markdown",
      "metadata": {
        "id": "uUWVpksaTi-f"
      },
      "source": [
        "Lists indexing will return an error if there is no element at that index. For example:"
      ]
    },
    {
      "cell_type": "code",
      "execution_count": null,
      "metadata": {
        "id": "0-yv18MiTi-f",
        "outputId": "0b551939-1c8f-429a-99cb-9bcb997cc4f4"
      },
      "outputs": [
        {
          "ename": "IndexError",
          "evalue": "list index out of range",
          "output_type": "error",
          "traceback": [
            "\u001b[1;31m---------------------------------------------------------------------------\u001b[0m",
            "\u001b[1;31mIndexError\u001b[0m                                Traceback (most recent call last)",
            "\u001b[1;32m<ipython-input-84-452c52ef7c16>\u001b[0m in \u001b[0;36m<module>\u001b[1;34m\u001b[0m\n\u001b[1;32m----> 1\u001b[1;33m \u001b[0mmy_list\u001b[0m\u001b[1;33m[\u001b[0m\u001b[1;36m100\u001b[0m\u001b[1;33m]\u001b[0m\u001b[1;33m\u001b[0m\u001b[1;33m\u001b[0m\u001b[0m\n\u001b[0m",
            "\u001b[1;31mIndexError\u001b[0m: list index out of range"
          ]
        }
      ],
      "source": [
        "my_list[100]"
      ]
    },
    {
      "cell_type": "markdown",
      "metadata": {
        "id": "-7o4m9-dTi-f"
      },
      "source": [
        "### Basic List Methods\n",
        "\n",
        "There are parallels between arrays in another language and lists in Python. Lists in Python tend to be more flexible than arrays in other languages for two reasons: they have no fixed size (meaning we don't have to specify the size), and they have no fixed type constraint (like we've seen above).\n",
        "\n",
        "Explained next are some special methods for lists:"
      ]
    },
    {
      "cell_type": "code",
      "execution_count": null,
      "metadata": {
        "id": "PYrBvW6oTi-f"
      },
      "outputs": [],
      "source": [
        "# Create a new list\n",
        "list1 = [1,2,3]"
      ]
    },
    {
      "cell_type": "markdown",
      "metadata": {
        "id": "hl5niHUPTi-g"
      },
      "source": [
        "Use the **append** method to permanently add an item to the end of a list:"
      ]
    },
    {
      "cell_type": "code",
      "execution_count": null,
      "metadata": {
        "id": "qLGj5ElSTi-g"
      },
      "outputs": [],
      "source": [
        "# Append\n",
        "list1.append('append me!')"
      ]
    },
    {
      "cell_type": "code",
      "execution_count": null,
      "metadata": {
        "id": "Buy0iCZzTi-g",
        "outputId": "7d18a859-3871-4954-ef0b-c5155723c5c2"
      },
      "outputs": [
        {
          "data": {
            "text/plain": [
              "[1, 2, 3, 'append me!']"
            ]
          },
          "execution_count": 87,
          "metadata": {},
          "output_type": "execute_result"
        }
      ],
      "source": [
        "# Show\n",
        "list1"
      ]
    },
    {
      "cell_type": "markdown",
      "metadata": {
        "id": "A13Pl8sYTi-g"
      },
      "source": [
        "Use **pop** to \"pop off\" an item from the list. By default pop takes off the last index, but you can also specify which index to pop off. "
      ]
    },
    {
      "cell_type": "code",
      "execution_count": null,
      "metadata": {
        "id": "2Gf1UIDaTi-h",
        "outputId": "bd185d92-b6f3-47d8-9e71-5209e2213415"
      },
      "outputs": [
        {
          "data": {
            "text/plain": [
              "1"
            ]
          },
          "execution_count": 88,
          "metadata": {},
          "output_type": "execute_result"
        }
      ],
      "source": [
        "# Pop off the 0 indexed item\n",
        "list1.pop(0)"
      ]
    },
    {
      "cell_type": "code",
      "execution_count": null,
      "metadata": {
        "id": "EQ_nfV3VTi-h",
        "outputId": "831c6f91-8f4d-4bd1-c231-afa8178e4d39"
      },
      "outputs": [
        {
          "data": {
            "text/plain": [
              "[2, 3, 'append me!']"
            ]
          },
          "execution_count": 89,
          "metadata": {},
          "output_type": "execute_result"
        }
      ],
      "source": [
        "# Show\n",
        "list1"
      ]
    },
    {
      "cell_type": "code",
      "execution_count": null,
      "metadata": {
        "id": "iTDyrJfwTi-h"
      },
      "outputs": [],
      "source": [
        "# Assign the popped element, remember default popped index is -1\n",
        "popped_item = list1.pop()"
      ]
    },
    {
      "cell_type": "code",
      "execution_count": null,
      "metadata": {
        "id": "ow2yGNN_Ti-h",
        "outputId": "e00ac777-9137-4034-cb57-84d71c831d53"
      },
      "outputs": [
        {
          "data": {
            "text/plain": [
              "'append me!'"
            ]
          },
          "execution_count": 91,
          "metadata": {},
          "output_type": "execute_result"
        }
      ],
      "source": [
        "popped_item"
      ]
    },
    {
      "cell_type": "code",
      "execution_count": null,
      "metadata": {
        "id": "1G3I6wJjTi-i",
        "outputId": "4be00dc8-d0f6-4cf5-eb4b-609f17484e23"
      },
      "outputs": [
        {
          "data": {
            "text/plain": [
              "[2, 3]"
            ]
          },
          "execution_count": 92,
          "metadata": {},
          "output_type": "execute_result"
        }
      ],
      "source": [
        "# Show remaining list\n",
        "list1"
      ]
    },
    {
      "cell_type": "markdown",
      "metadata": {
        "id": "Eyjz42JGTi-i"
      },
      "source": [
        "We can insert and remove elements from a list."
      ]
    },
    {
      "cell_type": "code",
      "execution_count": null,
      "metadata": {
        "id": "XBLS0EaDTi-i",
        "outputId": "3ac6d12f-9965-4c19-e6f1-513c970abb0e"
      },
      "outputs": [
        {
          "name": "stdout",
          "output_type": "stream",
          "text": [
            "['a0', 'a', 'b', 'c']\n"
          ]
        }
      ],
      "source": [
        "c = ['a', 'b', 'c']\n",
        "\n",
        "# Insert at index 0\n",
        "c.insert(0, 'a0')\n",
        "print(c)"
      ]
    },
    {
      "cell_type": "code",
      "execution_count": null,
      "metadata": {
        "id": "4FoaQwcrTi-i",
        "outputId": "ad660f27-061e-4358-9305-f58a4e1d699e"
      },
      "outputs": [
        {
          "name": "stdout",
          "output_type": "stream",
          "text": [
            "['a0', 'a', 'c']\n"
          ]
        }
      ],
      "source": [
        "# Remove\n",
        "c.remove('b')\n",
        "print(c)"
      ]
    },
    {
      "cell_type": "code",
      "execution_count": null,
      "metadata": {
        "id": "zTQucSdmTi-j",
        "outputId": "123eae1a-9987-4096-f331-04850324e604"
      },
      "outputs": [
        {
          "name": "stdout",
          "output_type": "stream",
          "text": [
            "['a', 'c']\n"
          ]
        }
      ],
      "source": [
        "# Remove at index 0\n",
        "del c[0]\n",
        "print(c)"
      ]
    },
    {
      "cell_type": "markdown",
      "metadata": {
        "id": "XchUop-cTi-j"
      },
      "source": [
        "We can use the **sort** method and the **reverse** methods to also effect your lists:"
      ]
    },
    {
      "cell_type": "code",
      "execution_count": null,
      "metadata": {
        "id": "sqilfXfQTi-j"
      },
      "outputs": [],
      "source": [
        "new_list = ['a','e','x','b','c']"
      ]
    },
    {
      "cell_type": "code",
      "execution_count": null,
      "metadata": {
        "id": "--_aH27KTi-j",
        "outputId": "b810fc82-21cf-4fe6-d3ac-a0fa044819c9"
      },
      "outputs": [
        {
          "data": {
            "text/plain": [
              "['a', 'e', 'x', 'b', 'c']"
            ]
          },
          "execution_count": 97,
          "metadata": {},
          "output_type": "execute_result"
        }
      ],
      "source": [
        "# Show\n",
        "new_list"
      ]
    },
    {
      "cell_type": "code",
      "execution_count": null,
      "metadata": {
        "id": "RdTlYR6nTi-k"
      },
      "outputs": [],
      "source": [
        "# Use reverse to reverse order (this is permanent!)\n",
        "new_list.reverse()"
      ]
    },
    {
      "cell_type": "code",
      "execution_count": null,
      "metadata": {
        "id": "iqAMTPPXTi-l",
        "outputId": "df1984a0-319d-4f54-f02f-02d05e5a6921"
      },
      "outputs": [
        {
          "data": {
            "text/plain": [
              "['c', 'b', 'x', 'e', 'a']"
            ]
          },
          "execution_count": 99,
          "metadata": {},
          "output_type": "execute_result"
        }
      ],
      "source": [
        "new_list"
      ]
    },
    {
      "cell_type": "code",
      "execution_count": null,
      "metadata": {
        "id": "xfFwy9ZATi-l"
      },
      "outputs": [],
      "source": [
        "# Use sort to sort the list (in this case alphabetical order)\n",
        "new_list.sort()"
      ]
    },
    {
      "cell_type": "code",
      "execution_count": null,
      "metadata": {
        "id": "K0f-D6WPTi-l",
        "outputId": "abcea83c-ae1c-4c11-f855-cd50188f100c"
      },
      "outputs": [
        {
          "data": {
            "text/plain": [
              "['a', 'b', 'c', 'e', 'x']"
            ]
          },
          "execution_count": 101,
          "metadata": {},
          "output_type": "execute_result"
        }
      ],
      "source": [
        "new_list"
      ]
    },
    {
      "cell_type": "code",
      "execution_count": null,
      "metadata": {
        "id": "GeGHX5p_Ti-m",
        "outputId": "dfb17eee-fbc1-4404-d4d9-77e4c7be8f94"
      },
      "outputs": [
        {
          "data": {
            "text/plain": [
              "[1, 2, 3, 4, 7]"
            ]
          },
          "execution_count": 102,
          "metadata": {},
          "output_type": "execute_result"
        }
      ],
      "source": [
        "# For numbers, sorting is in ascending order\n",
        "list_of_numbers = [2, 4, 3, 7, 1]\n",
        "list_of_numbers.sort()\n",
        "list_of_numbers"
      ]
    },
    {
      "cell_type": "markdown",
      "metadata": {
        "id": "gQacnKnxTi-m"
      },
      "source": [
        "Two lists can be combined into a single list by the **zip** function."
      ]
    },
    {
      "cell_type": "code",
      "execution_count": null,
      "metadata": {
        "id": "9ce1nfGtTi-m",
        "outputId": "4b09bb1b-2831-4217-89f9-5a259ecdbf55"
      },
      "outputs": [
        {
          "name": "stdout",
          "output_type": "stream",
          "text": [
            "<zip object at 0x000001D824C4CB48>\n"
          ]
        }
      ],
      "source": [
        "a = [1,2,3,4,5]\n",
        "b = [5,4,3,2,1]\n",
        "\n",
        "print(zip(a,b))"
      ]
    },
    {
      "cell_type": "markdown",
      "metadata": {
        "id": "TLWZ1raETi-m"
      },
      "source": [
        "To see the results of the **zip** function, we convert the returned zip object into a list. As you can see, the **zip** function returns a list of tuples.  Each tuple represents a pair of items that the function zipped together.  The order in the two lists was maintained."
      ]
    },
    {
      "cell_type": "code",
      "execution_count": null,
      "metadata": {
        "id": "U2J0bdRpTi-n",
        "outputId": "4dca3251-e187-40e2-8eb7-58c5c59923c1"
      },
      "outputs": [
        {
          "name": "stdout",
          "output_type": "stream",
          "text": [
            "[(1, 5), (2, 4), (3, 3), (4, 2), (5, 1)]\n"
          ]
        }
      ],
      "source": [
        "print(list(zip(a,b)))"
      ]
    },
    {
      "cell_type": "markdown",
      "metadata": {
        "id": "_0bba2fITi-n"
      },
      "source": [
        "The usual method for using the **zip** command is inside of a for-loop.  The following code shows how a for-loop can assign a variable to each collection that the program is iterating. "
      ]
    },
    {
      "cell_type": "code",
      "execution_count": null,
      "metadata": {
        "id": "Vb6jpDAzTi-n",
        "outputId": "af4784d0-d280-4413-9d04-eeb73652b49e"
      },
      "outputs": [
        {
          "name": "stdout",
          "output_type": "stream",
          "text": [
            "1 - 5\n",
            "2 - 4\n",
            "3 - 3\n",
            "4 - 2\n",
            "5 - 1\n"
          ]
        }
      ],
      "source": [
        "a = [1,2,3,4,5]\n",
        "b = [5,4,3,2,1]\n",
        "\n",
        "for x,y in zip(a,b):\n",
        "    print(f'{x} - {y}')"
      ]
    },
    {
      "cell_type": "markdown",
      "metadata": {
        "id": "3oYHe3ZHTi-o"
      },
      "source": [
        "Usually, both collections will be of the same length when passed to the **zip** command.  It is not an error to have collections of different lengths.  As the following code illustrates, the **zip** command will only process elements up to the length of the smaller collection."
      ]
    },
    {
      "cell_type": "code",
      "execution_count": null,
      "metadata": {
        "id": "qmdY61jTTi-o",
        "outputId": "f6b540b8-eede-4798-d3c1-27e23bd1f80b"
      },
      "outputs": [
        {
          "name": "stdout",
          "output_type": "stream",
          "text": [
            "[(1, 5), (2, 4), (3, 3)]\n"
          ]
        }
      ],
      "source": [
        "a = [1,2,3,4,5]\n",
        "b = [5,4,3]\n",
        "\n",
        "print(list(zip(a,b)))"
      ]
    },
    {
      "cell_type": "markdown",
      "metadata": {
        "id": "rmFtwq_sTi-p"
      },
      "source": [
        "### Nesting Lists\n",
        "Python data structures support **nesting**, i.e., we can have data structures within data structures. For example: a list inside a list."
      ]
    },
    {
      "cell_type": "code",
      "execution_count": null,
      "metadata": {
        "id": "jelCThJpTi-p"
      },
      "outputs": [],
      "source": [
        "# Let's make three lists\n",
        "lst_1=[1,2,3]\n",
        "lst_2=[4,5,6]\n",
        "lst_3=[7,8,9]\n",
        "\n",
        "# Make a list of lists to form a matrix\n",
        "matrix = [lst_1,lst_2,lst_3]"
      ]
    },
    {
      "cell_type": "code",
      "execution_count": null,
      "metadata": {
        "id": "pB8kUqT3Ti-q",
        "outputId": "3ef2c6fc-4370-4360-a24e-3581302df72d"
      },
      "outputs": [
        {
          "data": {
            "text/plain": [
              "[[1, 2, 3], [4, 5, 6], [7, 8, 9]]"
            ]
          },
          "execution_count": 108,
          "metadata": {},
          "output_type": "execute_result"
        }
      ],
      "source": [
        "# Show\n",
        "matrix"
      ]
    },
    {
      "cell_type": "markdown",
      "metadata": {
        "id": "v4PvX9icTi-q"
      },
      "source": [
        "We can again use indexing to grab elements, but now there are two levels for the index. The items in the matrix object, and the items inside that list."
      ]
    },
    {
      "cell_type": "code",
      "execution_count": null,
      "metadata": {
        "id": "FVrXyk9GTi-q",
        "outputId": "80209e1e-cd66-47b4-c9b5-9a46731b6255"
      },
      "outputs": [
        {
          "data": {
            "text/plain": [
              "[1, 2, 3]"
            ]
          },
          "execution_count": 109,
          "metadata": {},
          "output_type": "execute_result"
        }
      ],
      "source": [
        "# Grab first item in matrix object\n",
        "matrix[0]"
      ]
    },
    {
      "cell_type": "code",
      "execution_count": null,
      "metadata": {
        "id": "kzItyyF7Ti-q",
        "outputId": "246157ab-5810-442b-b34e-35018a1c57a1"
      },
      "outputs": [
        {
          "data": {
            "text/plain": [
              "1"
            ]
          },
          "execution_count": 110,
          "metadata": {},
          "output_type": "execute_result"
        }
      ],
      "source": [
        "# Grab first item of the first item in the matrix object\n",
        "matrix[0][0]"
      ]
    },
    {
      "cell_type": "markdown",
      "metadata": {
        "id": "rJ83UlOVTi-r"
      },
      "source": [
        "### List Comprehensions\n",
        "Python has an advanced feature **list comprehensions**. They allow for quick construction of lists."
      ]
    },
    {
      "cell_type": "code",
      "execution_count": null,
      "metadata": {
        "id": "oNmEMucNTi-r"
      },
      "outputs": [],
      "source": [
        "# Build a list comprehension by deconstructing a for loop within a []\n",
        "first_col = [row[0] for row in matrix]"
      ]
    },
    {
      "cell_type": "code",
      "execution_count": null,
      "metadata": {
        "id": "IQ00PCawTi-r",
        "outputId": "6bb22931-9ae1-40fe-cf78-19fa35ac7df4"
      },
      "outputs": [
        {
          "data": {
            "text/plain": [
              "[1, 4, 7]"
            ]
          },
          "execution_count": 112,
          "metadata": {},
          "output_type": "execute_result"
        }
      ],
      "source": [
        "first_col"
      ]
    },
    {
      "cell_type": "code",
      "execution_count": null,
      "metadata": {
        "id": "LuPKfrlITi-r",
        "outputId": "05acbcd4-3736-4759-f1b7-4ebb77f56a6f"
      },
      "outputs": [
        {
          "data": {
            "text/plain": [
              "[0, 2, 4, 6, 8]"
            ]
          },
          "execution_count": 113,
          "metadata": {},
          "output_type": "execute_result"
        }
      ],
      "source": [
        "# Even numbers in the range 0-10 \n",
        "even_numbers = [x for x in range(10) if x % 2 == 0] \n",
        "even_numbers"
      ]
    },
    {
      "cell_type": "code",
      "execution_count": null,
      "metadata": {
        "id": "VliYEKYHTi-r",
        "outputId": "e08820c5-120d-4652-a48e-516fad60d17f"
      },
      "outputs": [
        {
          "data": {
            "text/plain": [
              "[0, 4, 16, 36, 64]"
            ]
          },
          "execution_count": 114,
          "metadata": {},
          "output_type": "execute_result"
        }
      ],
      "source": [
        "# Squared elements in the even numbers list\n",
        "even_squares = [x * x for x in even_numbers]\n",
        "even_squares"
      ]
    },
    {
      "cell_type": "markdown",
      "metadata": {
        "id": "xs6VE1uXTi-s"
      },
      "source": [
        "# 2.5 Dictionaries <a id=\"section5\"/>"
      ]
    },
    {
      "cell_type": "markdown",
      "metadata": {
        "id": "GLotBH8xTi-s"
      },
      "source": [
        "> A ***dictionary*** is an unordered and mutable Python container that stores mappings of unique keys to values."
      ]
    },
    {
      "cell_type": "markdown",
      "metadata": {
        "id": "tzSyE6rWTi-s"
      },
      "source": [
        "We've been learning about *sequences* in Python so far, and now we're going to learn about *mappings* in Python. If you're familiar with other languages you can think of these dictionaries as hash tables. \n",
        "\n",
        "Mappings are a collection of objects that are stored by a *key*, unlike a sequence that stores objects by their relative position. This is an important distinction, since mappings won't retain order since they have objects defined by a key.\n",
        "\n",
        "Therefore, a Python dictionary consists of a collection of **keys** and associated **values**. A colon `:` separates each key from its value. The keys must be unique, and can appear only once in a dictionary. Also, keys must be immutable objects, such as strings, integers, floats, tuples. The associated values can be almost any Python object, and there are no restrictions.\n",
        "\n",
        "Dictionaries are mutable, therefore the elements can be changed, added, and removed. \n",
        "\n",
        "### Constructing a Dictionary"
      ]
    },
    {
      "cell_type": "code",
      "execution_count": null,
      "metadata": {
        "id": "JgqNqDiXTi-s"
      },
      "outputs": [],
      "source": [
        "# Make a dictionary with {} and : to signify a key and a value\n",
        "my_dict = {'key1':'value1','key2':'value2'}"
      ]
    },
    {
      "cell_type": "code",
      "execution_count": null,
      "metadata": {
        "id": "iFJre6qWTi-s",
        "outputId": "0f620706-4be4-4d24-82d3-92235033471d"
      },
      "outputs": [
        {
          "data": {
            "text/plain": [
              "{'key1': 'value1', 'key2': 'value2'}"
            ]
          },
          "execution_count": 116,
          "metadata": {},
          "output_type": "execute_result"
        }
      ],
      "source": [
        "my_dict"
      ]
    },
    {
      "cell_type": "code",
      "execution_count": null,
      "metadata": {
        "id": "cCOCpYRhTi-t",
        "outputId": "4cd751d6-e5c7-4a22-8508-13617d78ea04"
      },
      "outputs": [
        {
          "data": {
            "text/plain": [
              "'value2'"
            ]
          },
          "execution_count": 117,
          "metadata": {},
          "output_type": "execute_result"
        }
      ],
      "source": [
        "# Call values by their key\n",
        "my_dict['key2']"
      ]
    },
    {
      "cell_type": "markdown",
      "metadata": {
        "id": "FhoNEVxTTi-t"
      },
      "source": [
        "Dictionaries are very flexible in the data types they can hold. For example:"
      ]
    },
    {
      "cell_type": "code",
      "execution_count": null,
      "metadata": {
        "id": "LYRLbq74Ti-t",
        "outputId": "ffa1b792-0b83-467a-e7de-7066d49100a3"
      },
      "outputs": [
        {
          "data": {
            "text/plain": [
              "102"
            ]
          },
          "execution_count": 118,
          "metadata": {},
          "output_type": "execute_result"
        }
      ],
      "source": [
        "# The values can be any object type\n",
        "my_dict = {1:101,2:102, 3:103}\n",
        "\n",
        "# Call an item\n",
        "my_dict[2]"
      ]
    },
    {
      "cell_type": "code",
      "execution_count": null,
      "metadata": {
        "id": "xZ2u2uypTi-t",
        "outputId": "9e2a8744-0363-49d6-c2da-896e80354f8c"
      },
      "outputs": [
        {
          "data": {
            "text/plain": [
              "['item0', 'item1', 'item2']"
            ]
          },
          "execution_count": 119,
          "metadata": {},
          "output_type": "execute_result"
        }
      ],
      "source": [
        "my_dict = {'key1':123,'key2':[12,23,33],'key3':['item0','item1','item2']}\n",
        "\n",
        "# Let's call items from the dictionary\n",
        "my_dict['key3']"
      ]
    },
    {
      "cell_type": "code",
      "execution_count": null,
      "metadata": {
        "id": "pvD2bo2ATi-u",
        "outputId": "41325742-dc91-4730-95e4-36aade7e05f0"
      },
      "outputs": [
        {
          "data": {
            "text/plain": [
              "'item0'"
            ]
          },
          "execution_count": 120,
          "metadata": {},
          "output_type": "execute_result"
        }
      ],
      "source": [
        "# Can call an index on that value\n",
        "my_dict['key3'][0]"
      ]
    },
    {
      "cell_type": "code",
      "execution_count": null,
      "metadata": {
        "id": "cQB59pRLTi-u",
        "outputId": "aec4f513-397f-4071-cc4c-947ee800c13b"
      },
      "outputs": [
        {
          "data": {
            "text/plain": [
              "'ITEM0'"
            ]
          },
          "execution_count": 121,
          "metadata": {},
          "output_type": "execute_result"
        }
      ],
      "source": [
        "# Can even call methods on that value\n",
        "my_dict['key3'][0].upper()"
      ]
    },
    {
      "cell_type": "markdown",
      "metadata": {
        "id": "JAo8uFyZTi-u"
      },
      "source": [
        "We can change the values of a key as well. For instance:"
      ]
    },
    {
      "cell_type": "code",
      "execution_count": null,
      "metadata": {
        "id": "ip9CjqBPTi-u",
        "outputId": "b1b82d23-72dd-48e8-c9be-8c7658f3ea50"
      },
      "outputs": [
        {
          "name": "stdout",
          "output_type": "stream",
          "text": [
            "123\n"
          ]
        }
      ],
      "source": [
        "# Subtract 123 from the value\n",
        "print(my_dict['key1'])\n",
        "my_dict['key1'] = my_dict['key1'] - 100"
      ]
    },
    {
      "cell_type": "code",
      "execution_count": null,
      "metadata": {
        "id": "GfKOhArXTi-v",
        "outputId": "6e84291d-777b-485f-a3cb-900270e1b2d0"
      },
      "outputs": [
        {
          "data": {
            "text/plain": [
              "23"
            ]
          },
          "execution_count": 123,
          "metadata": {},
          "output_type": "execute_result"
        }
      ],
      "source": [
        "#Check\n",
        "my_dict['key1']"
      ]
    },
    {
      "cell_type": "markdown",
      "metadata": {
        "id": "_G_XcQgcTi-v"
      },
      "source": [
        "We can also create keys by assignment. For instance, if we start with an empty dictionary, we can continually add to it:"
      ]
    },
    {
      "cell_type": "code",
      "execution_count": null,
      "metadata": {
        "id": "TUVLyEYITi-v"
      },
      "outputs": [],
      "source": [
        "# Create a new dictionary\n",
        "d = {}"
      ]
    },
    {
      "cell_type": "code",
      "execution_count": null,
      "metadata": {
        "id": "7GO99ra0Ti-v"
      },
      "outputs": [],
      "source": [
        "# Create a new key through assignment\n",
        "d['animal'] = 'Dog'"
      ]
    },
    {
      "cell_type": "code",
      "execution_count": null,
      "metadata": {
        "id": "xYMsQokXTi-v"
      },
      "outputs": [],
      "source": [
        "# Can do this with any object\n",
        "d['answer'] = 42"
      ]
    },
    {
      "cell_type": "code",
      "execution_count": null,
      "metadata": {
        "id": "GZdxZGLzTi-w",
        "outputId": "dff21cb8-034c-4576-837e-00ac77526ddd"
      },
      "outputs": [
        {
          "data": {
            "text/plain": [
              "{'animal': 'Dog', 'answer': 42}"
            ]
          },
          "execution_count": 127,
          "metadata": {},
          "output_type": "execute_result"
        }
      ],
      "source": [
        "#Show\n",
        "d"
      ]
    },
    {
      "cell_type": "markdown",
      "metadata": {
        "id": "dRuzloyWTi-w"
      },
      "source": [
        "### Nesting with Dictionaries\n",
        "\n",
        "Python has flexibility of nesting objects and calling methods on them. Let's see a dictionary nested inside a dictionary."
      ]
    },
    {
      "cell_type": "code",
      "execution_count": null,
      "metadata": {
        "id": "4AoWcBBiTi-w"
      },
      "outputs": [],
      "source": [
        "# Dictionary nested inside a dictionary nested inside a dictionary\n",
        "d = {'key1':{'nestkey':{'subnestkey':32}}}"
      ]
    },
    {
      "cell_type": "code",
      "execution_count": null,
      "metadata": {
        "id": "htXZIg1kTi-w",
        "outputId": "d14eaaf1-4e62-458b-9618-19b7789e8576"
      },
      "outputs": [
        {
          "data": {
            "text/plain": [
              "32"
            ]
          },
          "execution_count": 129,
          "metadata": {},
          "output_type": "execute_result"
        }
      ],
      "source": [
        "# Keep calling the keys\n",
        "d['key1']['nestkey']['subnestkey']"
      ]
    },
    {
      "cell_type": "markdown",
      "metadata": {
        "id": "_2kp1N2ETi-x"
      },
      "source": [
        "### Dictionary Built-In Methods\n",
        "\n",
        "There are a several built-in methods we can call on a dictionary. "
      ]
    },
    {
      "cell_type": "code",
      "execution_count": null,
      "metadata": {
        "id": "QDu8EO6eTi-x"
      },
      "outputs": [],
      "source": [
        "# Create a typical dictionary\n",
        "d = {'key1':1,'key2':2,'key3':3}"
      ]
    },
    {
      "cell_type": "code",
      "execution_count": null,
      "metadata": {
        "id": "uEKMp1bSTi-x",
        "outputId": "c7f18bac-0b91-4e1c-dab2-c167579bc983"
      },
      "outputs": [
        {
          "data": {
            "text/plain": [
              "dict_keys(['key1', 'key2', 'key3'])"
            ]
          },
          "execution_count": 133,
          "metadata": {},
          "output_type": "execute_result"
        }
      ],
      "source": [
        "# Method to return a list of all keys \n",
        "d.keys()"
      ]
    },
    {
      "cell_type": "code",
      "execution_count": null,
      "metadata": {
        "id": "CgY5jt3bTi-x",
        "outputId": "aa2fc722-8115-4e0f-a8a1-f0a97fade207"
      },
      "outputs": [
        {
          "data": {
            "text/plain": [
              "dict_values([1, 2, 3])"
            ]
          },
          "execution_count": 134,
          "metadata": {},
          "output_type": "execute_result"
        }
      ],
      "source": [
        "# Method to return all values\n",
        "d.values()"
      ]
    },
    {
      "cell_type": "markdown",
      "metadata": {
        "id": "wGfTRkBWTi-x"
      },
      "source": [
        "# 2.6 Tuples <a id=\"section6\"/>\n",
        "\n",
        "> A ***tuple*** is a collection of objects which is ordered and immutable, and it is commonly written as a series of items in parentheses.\n",
        "\n",
        "In Python, tuples are very similar to lists, with the main difference being that tuples are *immutable* sequences, unlike lists that are *mutable* sequences. Tuples are created similar to lists, but with `()` instead of `[]`.\n",
        "\n",
        "The basic characteristics of tuples include:\n",
        "- They are ordered collections of objects - like lists and strings, tuples are positionally ordered collections of objects (i.e., they are sequences), that maintain a left-to-right order among their contents.\n",
        "- Are accessed by offset - like strings and lists, items in a tuple are accessed by positional offset (not by key); therefore, they support indexing and slicing.\n",
        "- Tuples are immutable sequences - like strings and lists, tuples are sequences. However, unlike lists that are *mutable* sequences, tuples are *immutable* sequences (meaning they can not be changed in-place). \n",
        "- Are fixed-length, heterogeneous, and arbitrarily nestable - because tuples are immutable, their size cannot be changed (without making a new copy). Tuples can hold any type of object, including other compound objects (e.g., lists, dictionaries, other tuples), and hence, they support arbitrary nesting.\n",
        "- Tuples are arrays of object references - like lists, tuples are best thought of as arrays of references (pointers) to other objects with allocated memory.\n"
      ]
    },
    {
      "cell_type": "markdown",
      "metadata": {
        "id": "dl7_Fh9pTi-y"
      },
      "source": [
        "### Constructing Tuples\n",
        "\n",
        "Tuples are constructed by using parentheses `()` with the items separated by commas. For example:"
      ]
    },
    {
      "cell_type": "code",
      "execution_count": null,
      "metadata": {
        "id": "rlo9aoLxTi-y",
        "outputId": "1928facd-fa49-4462-86e9-b0b76fed66f2"
      },
      "outputs": [
        {
          "data": {
            "text/plain": [
              "(1, 2, 3)"
            ]
          },
          "execution_count": 135,
          "metadata": {},
          "output_type": "execute_result"
        }
      ],
      "source": [
        "# Creating a tuple\n",
        "t = (1, 2, 3)\n",
        "t"
      ]
    },
    {
      "cell_type": "code",
      "execution_count": null,
      "metadata": {
        "id": "QIFHA8JETi-z",
        "outputId": "d19d64ea-d103-4c62-c4ea-2469ce41d9d7"
      },
      "outputs": [
        {
          "data": {
            "text/plain": [
              "3"
            ]
          },
          "execution_count": 136,
          "metadata": {},
          "output_type": "execute_result"
        }
      ],
      "source": [
        "# Check the length of the tuple using len(), just like a list\n",
        "len(t)"
      ]
    },
    {
      "cell_type": "code",
      "execution_count": null,
      "metadata": {
        "id": "T5xfpQKOTi-z",
        "outputId": "4f06288d-613c-4e89-9eb5-f2de215d2c62"
      },
      "outputs": [
        {
          "data": {
            "text/plain": [
              "('one', 2, 490.2)"
            ]
          },
          "execution_count": 137,
          "metadata": {},
          "output_type": "execute_result"
        }
      ],
      "source": [
        "# We can also mix object types: e.g., strings, integer numbers, floating-point numbers\n",
        "t = ('one', 2, 490.2)\n",
        "\n",
        "# Show\n",
        "t"
      ]
    },
    {
      "cell_type": "code",
      "execution_count": null,
      "metadata": {
        "id": "6vBm_YC2Ti-z",
        "outputId": "d461d106-aae5-4133-b53c-65138425cfb2"
      },
      "outputs": [
        {
          "data": {
            "text/plain": [
              "('one', 'two', (4, 5), 6, ['r', 100])"
            ]
          },
          "execution_count": 138,
          "metadata": {},
          "output_type": "execute_result"
        }
      ],
      "source": [
        "# Tuples, lists, or dictionaries can be nested into other tuples\n",
        "w = ('one', 'two', (4, 5), 6, ['r', 100])\n",
        "w"
      ]
    },
    {
      "cell_type": "code",
      "execution_count": null,
      "metadata": {
        "id": "bdJYKSiPTi-z",
        "outputId": "abd86be4-e7c6-4127-d44f-15fffb5dca30"
      },
      "outputs": [
        {
          "data": {
            "text/plain": [
              "()"
            ]
          },
          "execution_count": 139,
          "metadata": {},
          "output_type": "execute_result"
        }
      ],
      "source": [
        "# An empty tuple\n",
        "u = () \n",
        "u"
      ]
    },
    {
      "cell_type": "code",
      "execution_count": null,
      "metadata": {
        "id": "8yHaoDDVTi-0",
        "outputId": "03921441-99fa-45f0-d5b2-d14f410e424c"
      },
      "outputs": [
        {
          "data": {
            "text/plain": [
              "('thing',)"
            ]
          },
          "execution_count": 140,
          "metadata": {},
          "output_type": "execute_result"
        }
      ],
      "source": [
        "# A 1-item tuple\n",
        "v = ('thing', )    \n",
        "v"
      ]
    },
    {
      "cell_type": "markdown",
      "metadata": {
        "id": "FbS1w01nTi-0"
      },
      "source": [
        "Note that for a single-item tuple we need to place a comma after the item, that is, we use `(item,)` and not `(item)`, since parentheses can also be used to enclose expressions like `(1 + 2) * 3` = `9`."
      ]
    },
    {
      "cell_type": "code",
      "execution_count": null,
      "metadata": {
        "id": "np_tKZH-Ti-0",
        "outputId": "e5cb3fc6-dbb7-4496-d073-a747a6609ea3"
      },
      "outputs": [
        {
          "data": {
            "text/plain": [
              "3"
            ]
          },
          "execution_count": 141,
          "metadata": {},
          "output_type": "execute_result"
        }
      ],
      "source": [
        "# Note that the output of this cell is not a tuple\n",
        "# The displayed output of the cell is not in parentheses, and it is an integer number, not a tuple\n",
        "a = (3)\n",
        "a"
      ]
    },
    {
      "cell_type": "markdown",
      "metadata": {
        "id": "2_CnqdksTi-0"
      },
      "source": [
        "The built-in function `type()` allows to check the type of an object."
      ]
    },
    {
      "cell_type": "code",
      "execution_count": null,
      "metadata": {
        "id": "7gN7UYluTi-1",
        "outputId": "2559fa57-cbdb-4c16-dbd9-9816e714e1f0"
      },
      "outputs": [
        {
          "name": "stdout",
          "output_type": "stream",
          "text": [
            "<class 'int'>\n"
          ]
        }
      ],
      "source": [
        "# The type of the variable a is integer number\n",
        "print(type(a))"
      ]
    },
    {
      "cell_type": "code",
      "execution_count": null,
      "metadata": {
        "id": "q8rjup_FTi-1",
        "outputId": "09a60ece-5f04-4cb2-d509-e2161e852e18"
      },
      "outputs": [
        {
          "data": {
            "text/plain": [
              "(3,)"
            ]
          },
          "execution_count": 143,
          "metadata": {},
          "output_type": "execute_result"
        }
      ],
      "source": [
        "# This is a tuple\n",
        "b = (3,)\n",
        "b"
      ]
    },
    {
      "cell_type": "code",
      "execution_count": null,
      "metadata": {
        "id": "h3l4gaGpTi-1",
        "outputId": "72d9264a-7193-459b-863c-6132fe766079"
      },
      "outputs": [
        {
          "name": "stdout",
          "output_type": "stream",
          "text": [
            "<class 'tuple'>\n"
          ]
        }
      ],
      "source": [
        "# The type of the variable b is tuple\n",
        "print(type(b))"
      ]
    },
    {
      "cell_type": "code",
      "execution_count": null,
      "metadata": {
        "id": "mfrraxiTTi-1",
        "outputId": "83a787ec-27cc-4fa8-f6b8-93c5832a1b38"
      },
      "outputs": [
        {
          "data": {
            "text/plain": [
              "15"
            ]
          },
          "execution_count": 145,
          "metadata": {},
          "output_type": "execute_result"
        }
      ],
      "source": [
        "# Not a tuple\n",
        "(1 + 4) * 3"
      ]
    },
    {
      "cell_type": "code",
      "execution_count": null,
      "metadata": {
        "id": "87gXHCDgTi-2",
        "outputId": "86a53fbf-626b-4e00-fa45-c021f3d72c72"
      },
      "outputs": [
        {
          "data": {
            "text/plain": [
              "(5, 5, 5)"
            ]
          },
          "execution_count": 146,
          "metadata": {},
          "output_type": "execute_result"
        }
      ],
      "source": [
        "# This is a tuple: note that (1+4,) is the same as (5,), and when multiplied by 3, the tuple is repeated 3 times\n",
        "(1 + 4,) * 3"
      ]
    },
    {
      "cell_type": "markdown",
      "metadata": {
        "id": "tW4vmhB8Ti-2"
      },
      "source": [
        "The parentheses `()` can be omitted in the syntax, and tuples can be created just by listing items separated with commas. Although the parentheses are mostly optional with tuples, there are a few cases when using parentheses is required, e.g., within a function call, or when nested in a larger expression. For beginners, it is recommended to always use parentheses, in order to avoid the above exceptions, and because they improve the code readability."
      ]
    },
    {
      "cell_type": "code",
      "execution_count": null,
      "metadata": {
        "id": "t_3Utpm5Ti-2",
        "outputId": "cbb57d65-c4d9-43ef-8fd3-5b77d766a067"
      },
      "outputs": [
        {
          "data": {
            "text/plain": [
              "('one', 2, 490.2)"
            ]
          },
          "execution_count": 147,
          "metadata": {},
          "output_type": "execute_result"
        }
      ],
      "source": [
        "t = 'one', 2, 490.2\n",
        "t"
      ]
    },
    {
      "cell_type": "code",
      "execution_count": null,
      "metadata": {
        "id": "AZwuDnfVTi-3",
        "outputId": "2873fb4f-181b-4a23-f275-d2774c469a9e"
      },
      "outputs": [
        {
          "data": {
            "text/plain": [
              "('hello',)"
            ]
          },
          "execution_count": 148,
          "metadata": {},
          "output_type": "execute_result"
        }
      ],
      "source": [
        "# A tuple with one item can be created just by adding a comma after the item without using parentheses\n",
        "'hello',"
      ]
    },
    {
      "cell_type": "markdown",
      "metadata": {
        "id": "y0c3uO57Ti-3"
      },
      "source": [
        "### Sequencing Operations"
      ]
    },
    {
      "cell_type": "markdown",
      "metadata": {
        "id": "4lDFl-ZcTi-3"
      },
      "source": [
        "Since tuples are positionally ordered collections of objects like strings and lists, indexing and slicing work for tuples."
      ]
    },
    {
      "cell_type": "code",
      "execution_count": null,
      "metadata": {
        "id": "4LcdxnG-Ti-3",
        "outputId": "49d3b3ae-f577-4f5f-eb71-10517d1d4d2c"
      },
      "outputs": [
        {
          "data": {
            "text/plain": [
              "('one', 2, 490.2)"
            ]
          },
          "execution_count": 149,
          "metadata": {},
          "output_type": "execute_result"
        }
      ],
      "source": [
        "t"
      ]
    },
    {
      "cell_type": "code",
      "execution_count": null,
      "metadata": {
        "id": "AW_tb4kMTi-3",
        "outputId": "4da2f613-facf-49d2-998d-f472265a60d4"
      },
      "outputs": [
        {
          "data": {
            "text/plain": [
              "'one'"
            ]
          },
          "execution_count": 150,
          "metadata": {},
          "output_type": "execute_result"
        }
      ],
      "source": [
        "# Use indexing just like in lists and strings\n",
        "t[0]"
      ]
    },
    {
      "cell_type": "code",
      "execution_count": null,
      "metadata": {
        "id": "U4KihDX0Ti-4",
        "outputId": "81b03e65-a828-4dc2-af20-e430609a99b4"
      },
      "outputs": [
        {
          "data": {
            "text/plain": [
              "2"
            ]
          },
          "execution_count": 151,
          "metadata": {},
          "output_type": "execute_result"
        }
      ],
      "source": [
        "t[1]"
      ]
    },
    {
      "cell_type": "code",
      "execution_count": null,
      "metadata": {
        "id": "hmLsbWlyTi-4",
        "outputId": "49e05418-ce63-4813-e837-121c6c120e48"
      },
      "outputs": [
        {
          "data": {
            "text/plain": [
              "490.2"
            ]
          },
          "execution_count": 152,
          "metadata": {},
          "output_type": "execute_result"
        }
      ],
      "source": [
        "t[-1]"
      ]
    },
    {
      "cell_type": "code",
      "execution_count": null,
      "metadata": {
        "id": "-1h0TnwcTi-4",
        "outputId": "43fd1928-8af9-4901-ff7b-4a49114752f8"
      },
      "outputs": [
        {
          "data": {
            "text/plain": [
              "('one', 2)"
            ]
          },
          "execution_count": 153,
          "metadata": {},
          "output_type": "execute_result"
        }
      ],
      "source": [
        "# Slicing\n",
        "t[0:2]"
      ]
    },
    {
      "cell_type": "markdown",
      "metadata": {
        "id": "jdQjQbfRTi-4"
      },
      "source": [
        "Other sequence operations, such as concatenation and repetition, are also supported for tuples, in a similar way as for lists and strings."
      ]
    },
    {
      "cell_type": "code",
      "execution_count": null,
      "metadata": {
        "id": "_EH0oPTSTi-5",
        "outputId": "3d65bd2a-b9ae-463c-f567-dcd592c3b8bf"
      },
      "outputs": [
        {
          "data": {
            "text/plain": [
              "(1, 'book', 'notes', 4)"
            ]
          },
          "execution_count": 154,
          "metadata": {},
          "output_type": "execute_result"
        }
      ],
      "source": [
        "# Concatenation\n",
        "(1, 'book') + ('notes', 4) "
      ]
    },
    {
      "cell_type": "code",
      "execution_count": null,
      "metadata": {
        "id": "6LAZ-peeTi-5",
        "outputId": "ac6b3b1f-9d4c-423a-bc99-2214673bd9ab"
      },
      "outputs": [
        {
          "data": {
            "text/plain": [
              "(1, 'thing', 1, 'thing', 1, 'thing', 1, 'thing')"
            ]
          },
          "execution_count": 155,
          "metadata": {},
          "output_type": "execute_result"
        }
      ],
      "source": [
        "# Repetition\n",
        "(1, 'thing') * 4 "
      ]
    },
    {
      "cell_type": "markdown",
      "metadata": {
        "id": "H0Ge6NUTTi-5"
      },
      "source": [
        "Because tuples are sequences, we can also use `for` loop iterations and list comprehensions to print the elements of tuples. "
      ]
    },
    {
      "cell_type": "code",
      "execution_count": null,
      "metadata": {
        "id": "u4UhQl2RTi-5",
        "outputId": "723d8879-ade6-43b3-8c0e-a501ce589006"
      },
      "outputs": [
        {
          "data": {
            "text/plain": [
              "('b', 'u', 'i', 'l', 'd', 'i', 'n', 'g')"
            ]
          },
          "execution_count": 156,
          "metadata": {},
          "output_type": "execute_result"
        }
      ],
      "source": [
        "# Consider the following tuple\n",
        "x = ('b', 'u', 'i', 'l', 'd', 'i', 'n', 'g')\n",
        "x"
      ]
    },
    {
      "cell_type": "code",
      "execution_count": null,
      "metadata": {
        "id": "x98uZXC0Ti-6",
        "outputId": "886dc26a-81c7-44f6-efdb-8e248e3ff6d5"
      },
      "outputs": [
        {
          "name": "stdout",
          "output_type": "stream",
          "text": [
            "b\n",
            "u\n",
            "i\n",
            "l\n",
            "d\n",
            "i\n",
            "n\n",
            "g\n"
          ]
        }
      ],
      "source": [
        "# We can use a `for` loop iteration to print each of the items of the tuple on a separate line\n",
        "for i in x:\n",
        "    print(i)"
      ]
    },
    {
      "cell_type": "code",
      "execution_count": null,
      "metadata": {
        "id": "JICeHdRZTi-6",
        "outputId": "ecfc97cc-9a80-413e-f169-4140a280ebea"
      },
      "outputs": [
        {
          "name": "stdout",
          "output_type": "stream",
          "text": [
            "b\n",
            "u\n",
            "i\n",
            "l\n",
            "d\n",
            "i\n",
            "n\n",
            "g\n"
          ]
        }
      ],
      "source": [
        "# A list comprehension can also be used to print each of the items of the tuple x on a separate line\n",
        "l = [print(i) for i in x]"
      ]
    },
    {
      "cell_type": "markdown",
      "metadata": {
        "id": "AR5JxW_CTi-7"
      },
      "source": [
        "### Built-in Methods for Tuples\n",
        "\n",
        "Tuples have built-in methods, but not as many as lists do. Tuples do not have methods such as append(), remove(), extend(), insert() and pop() due to its immutable nature."
      ]
    },
    {
      "cell_type": "code",
      "execution_count": null,
      "metadata": {
        "id": "F2fQTHImTi-7",
        "outputId": "e8f06da8-91f7-48a1-dfc2-c3cf0c9e2711"
      },
      "outputs": [
        {
          "data": {
            "text/plain": [
              "('one', 2, 490.2)"
            ]
          },
          "execution_count": 159,
          "metadata": {},
          "output_type": "execute_result"
        }
      ],
      "source": [
        "# Show\n",
        "t"
      ]
    },
    {
      "cell_type": "code",
      "execution_count": null,
      "metadata": {
        "id": "49_46FidTi-7",
        "outputId": "3bc90373-85c8-41c2-e566-1133438c5138"
      },
      "outputs": [
        {
          "data": {
            "text/plain": [
              "0"
            ]
          },
          "execution_count": 160,
          "metadata": {},
          "output_type": "execute_result"
        }
      ],
      "source": [
        "# Use .index to enter an item and return the index\n",
        "t.index('one')"
      ]
    },
    {
      "cell_type": "code",
      "execution_count": null,
      "metadata": {
        "id": "Icg5i2OgTi-8",
        "outputId": "5a8fa327-6e07-486f-cee3-178a3bceb070"
      },
      "outputs": [
        {
          "data": {
            "text/plain": [
              "1"
            ]
          },
          "execution_count": 161,
          "metadata": {},
          "output_type": "execute_result"
        }
      ],
      "source": [
        "# Use .count to count the number of times a value appears\n",
        "t.count('one')"
      ]
    },
    {
      "cell_type": "code",
      "execution_count": null,
      "metadata": {
        "id": "_e0tBAWeTi-8",
        "outputId": "82a39c94-587b-4beb-a14a-88ba89f2de48"
      },
      "outputs": [
        {
          "data": {
            "text/plain": [
              "3"
            ]
          },
          "execution_count": 162,
          "metadata": {},
          "output_type": "execute_result"
        }
      ],
      "source": [
        "# Count the number of times 2 appears in the tuple\n",
        "u = (1, 2, 3, 2, 1, 2)\n",
        "u.count(2)"
      ]
    },
    {
      "cell_type": "markdown",
      "metadata": {
        "id": "Xosxdu1qTi-9"
      },
      "source": [
        "### Immutability\n",
        "\n",
        "To emphasize one more time that tuples are immutable, check the following examples."
      ]
    },
    {
      "cell_type": "code",
      "execution_count": null,
      "metadata": {
        "id": "lG2hZ066Ti-9",
        "outputId": "f6aa9130-ade7-43a1-f882-a4a8762f9496"
      },
      "outputs": [
        {
          "ename": "TypeError",
          "evalue": "'tuple' object does not support item assignment",
          "output_type": "error",
          "traceback": [
            "\u001b[1;31m---------------------------------------------------------------------------\u001b[0m",
            "\u001b[1;31mTypeError\u001b[0m                                 Traceback (most recent call last)",
            "\u001b[1;32m<ipython-input-163-48ca4610c91d>\u001b[0m in \u001b[0;36m<module>\u001b[1;34m\u001b[0m\n\u001b[0;32m      1\u001b[0m \u001b[1;31m# If we try to change the first element, we will get an error message\u001b[0m\u001b[1;33m\u001b[0m\u001b[1;33m\u001b[0m\u001b[1;33m\u001b[0m\u001b[0m\n\u001b[1;32m----> 2\u001b[1;33m \u001b[0mt\u001b[0m\u001b[1;33m[\u001b[0m\u001b[1;36m0\u001b[0m\u001b[1;33m]\u001b[0m \u001b[1;33m=\u001b[0m \u001b[1;34m'four'\u001b[0m\u001b[1;33m\u001b[0m\u001b[1;33m\u001b[0m\u001b[0m\n\u001b[0m",
            "\u001b[1;31mTypeError\u001b[0m: 'tuple' object does not support item assignment"
          ]
        }
      ],
      "source": [
        "# If we try to change the first element, we will get an error message\n",
        "t[0] = 'four'"
      ]
    },
    {
      "cell_type": "markdown",
      "metadata": {
        "id": "GO3wgfuJTi-9"
      },
      "source": [
        "Because of the immutability, tuples can't grow. Once a tuple is created, we can not add to it."
      ]
    },
    {
      "cell_type": "code",
      "execution_count": null,
      "metadata": {
        "id": "f0pmCx0_Ti--",
        "outputId": "4196c3c9-fe2b-44c9-a004-4d305e917397"
      },
      "outputs": [
        {
          "ename": "AttributeError",
          "evalue": "'tuple' object has no attribute 'append'",
          "output_type": "error",
          "traceback": [
            "\u001b[1;31m---------------------------------------------------------------------------\u001b[0m",
            "\u001b[1;31mAttributeError\u001b[0m                            Traceback (most recent call last)",
            "\u001b[1;32m<ipython-input-164-61e6d9417392>\u001b[0m in \u001b[0;36m<module>\u001b[1;34m\u001b[0m\n\u001b[0;32m      1\u001b[0m \u001b[1;31m# We will get an error message\u001b[0m\u001b[1;33m\u001b[0m\u001b[1;33m\u001b[0m\u001b[1;33m\u001b[0m\u001b[0m\n\u001b[1;32m----> 2\u001b[1;33m \u001b[0mt\u001b[0m\u001b[1;33m.\u001b[0m\u001b[0mappend\u001b[0m\u001b[1;33m(\u001b[0m\u001b[1;34m'nope'\u001b[0m\u001b[1;33m)\u001b[0m\u001b[1;33m\u001b[0m\u001b[1;33m\u001b[0m\u001b[0m\n\u001b[0m",
            "\u001b[1;31mAttributeError\u001b[0m: 'tuple' object has no attribute 'append'"
          ]
        }
      ],
      "source": [
        "# We will get an error message\n",
        "t.append('nope')"
      ]
    },
    {
      "cell_type": "markdown",
      "metadata": {
        "id": "0pjmMRAPTi--"
      },
      "source": [
        "We can, however, make a new tuple based on a current tuple."
      ]
    },
    {
      "cell_type": "code",
      "execution_count": null,
      "metadata": {
        "id": "qSx_CFwaTi--",
        "outputId": "08184539-8bfd-4a79-ce9b-d3a08a7bf5d9"
      },
      "outputs": [
        {
          "data": {
            "text/plain": [
              "('one', 7, 490.2)"
            ]
          },
          "execution_count": 165,
          "metadata": {},
          "output_type": "execute_result"
        }
      ],
      "source": [
        "t = (t[0], 7, t[2])\n",
        "t"
      ]
    },
    {
      "cell_type": "markdown",
      "metadata": {
        "id": "4BUm6s9ETi-_"
      },
      "source": [
        "### Conversion to Lists\n",
        "\n",
        "Conversions to lists and back to tuples is straightforward."
      ]
    },
    {
      "cell_type": "code",
      "execution_count": null,
      "metadata": {
        "id": "UPAjT-O7Ti-_",
        "outputId": "8c5ec50d-7935-4abb-c867-5a9d039c4563"
      },
      "outputs": [
        {
          "data": {
            "text/plain": [
              "['one', 7, 490.2]"
            ]
          },
          "execution_count": 166,
          "metadata": {},
          "output_type": "execute_result"
        }
      ],
      "source": [
        "# Tuple to list\n",
        "l = list(t)\n",
        "l"
      ]
    },
    {
      "cell_type": "code",
      "execution_count": null,
      "metadata": {
        "id": "Xe8p9IASTi-_",
        "outputId": "abbed050-8326-4d9e-af0d-dc11d858fb2d"
      },
      "outputs": [
        {
          "data": {
            "text/plain": [
              "('aa', 'bb', 5, 'cc')"
            ]
          },
          "execution_count": 167,
          "metadata": {},
          "output_type": "execute_result"
        }
      ],
      "source": [
        "# List to tuple\n",
        "l2 = ['aa', 'bb', 5, 'cc']\n",
        "t2 = tuple(l2)\n",
        "t2"
      ]
    },
    {
      "cell_type": "markdown",
      "metadata": {
        "id": "h6ed8980Ti-_"
      },
      "source": [
        "### Tuple Unpacking"
      ]
    },
    {
      "cell_type": "markdown",
      "metadata": {
        "id": "w2ieLcZ3Ti_A"
      },
      "source": [
        "Tuple unpacking means pairing objects on the right side of the assignment operator `=` with targets on the left side by position, and assigning them from left to right."
      ]
    },
    {
      "cell_type": "code",
      "execution_count": null,
      "metadata": {
        "id": "4mqUkaZ9Ti_A",
        "outputId": "35aff990-64e7-46ca-902a-fb32a5822e43"
      },
      "outputs": [
        {
          "name": "stdout",
          "output_type": "stream",
          "text": [
            "GOOG\n",
            "120\n",
            "490.2\n",
            "Cost: 58824.0\n"
          ]
        }
      ],
      "source": [
        "# Unpacking the tuple into the inidividual items\n",
        "y = ('GOOG', 120, 490.2)\n",
        "order, shares, price = y\n",
        "print(order)\n",
        "print(shares)\n",
        "print(price)\n",
        "print('Cost:', shares * price)"
      ]
    },
    {
      "cell_type": "code",
      "execution_count": null,
      "metadata": {
        "id": "oXDaIUWuTi_A",
        "outputId": "4522ddee-b51b-4c0b-d62d-2c4aa390f339"
      },
      "outputs": [
        {
          "ename": "ValueError",
          "evalue": "too many values to unpack (expected 2)",
          "output_type": "error",
          "traceback": [
            "\u001b[1;31m---------------------------------------------------------------------------\u001b[0m",
            "\u001b[1;31mValueError\u001b[0m                                Traceback (most recent call last)",
            "\u001b[1;32m<ipython-input-169-25e50978d2fd>\u001b[0m in \u001b[0;36m<module>\u001b[1;34m\u001b[0m\n\u001b[0;32m      1\u001b[0m \u001b[1;31m# Unpacking the tuple: two names are entered for a tuple with 3 items, reuslting in an error\u001b[0m\u001b[1;33m\u001b[0m\u001b[1;33m\u001b[0m\u001b[1;33m\u001b[0m\u001b[0m\n\u001b[1;32m----> 2\u001b[1;33m \u001b[0morder\u001b[0m\u001b[1;33m,\u001b[0m \u001b[0mshares\u001b[0m \u001b[1;33m=\u001b[0m \u001b[0my\u001b[0m\u001b[1;33m\u001b[0m\u001b[1;33m\u001b[0m\u001b[0m\n\u001b[0m",
            "\u001b[1;31mValueError\u001b[0m: too many values to unpack (expected 2)"
          ]
        }
      ],
      "source": [
        "# Unpacking the tuple: two names are entered for a tuple with 3 items, reuslting in an error\n",
        "order, shares = y"
      ]
    },
    {
      "cell_type": "markdown",
      "metadata": {
        "id": "H8OzdWJrTi_A"
      },
      "source": [
        "### Named Tuples"
      ]
    },
    {
      "cell_type": "markdown",
      "metadata": {
        "id": "e07Z8pJvTi_B"
      },
      "source": [
        "Named tuples are an extended type of tuples that allow items to be accessed by both position and attribute name, similar to dictionaries. They are created by using the `namedtuple` function from the collections module."
      ]
    },
    {
      "cell_type": "code",
      "execution_count": null,
      "metadata": {
        "id": "tfiBCx9nTi_B",
        "outputId": "13734708-4fd6-41e9-d61b-49e1c623dbf6"
      },
      "outputs": [
        {
          "data": {
            "text/plain": [
              "Rec(name='Bob', age=40.5, jobs=['dev', 'mgr'])"
            ]
          },
          "execution_count": 170,
          "metadata": {},
          "output_type": "execute_result"
        }
      ],
      "source": [
        "# Import and create a named tuple\n",
        "from collections import namedtuple \n",
        "Rec = namedtuple('Rec', ['name', 'age', 'jobs']) \n",
        "# Assign a named-tuple record\n",
        "bob = Rec(name='Bob', age=40.5, jobs=['dev', 'mgr']) \n",
        "bob"
      ]
    },
    {
      "cell_type": "code",
      "execution_count": null,
      "metadata": {
        "id": "IZUK0DwPTi_B",
        "outputId": "9794ad7e-3e12-4d8f-9159-f9665f28af20"
      },
      "outputs": [
        {
          "data": {
            "text/plain": [
              "'Bob'"
            ]
          },
          "execution_count": 171,
          "metadata": {},
          "output_type": "execute_result"
        }
      ],
      "source": [
        "# Access by position\n",
        "bob[0]"
      ]
    },
    {
      "cell_type": "code",
      "execution_count": null,
      "metadata": {
        "id": "F9hqfcPdTi_B",
        "outputId": "2f88a07d-564c-4d11-a1cf-06c8c58274a9"
      },
      "outputs": [
        {
          "data": {
            "text/plain": [
              "40.5"
            ]
          },
          "execution_count": 172,
          "metadata": {},
          "output_type": "execute_result"
        }
      ],
      "source": [
        "bob[1]"
      ]
    },
    {
      "cell_type": "code",
      "execution_count": null,
      "metadata": {
        "id": "nS78pEs2Ti_B",
        "outputId": "7e156d67-3986-43a2-a329-ae9498f3c2a2"
      },
      "outputs": [
        {
          "data": {
            "text/plain": [
              "('Bob', ['dev', 'mgr'])"
            ]
          },
          "execution_count": 173,
          "metadata": {},
          "output_type": "execute_result"
        }
      ],
      "source": [
        "# Access by attribute \n",
        "bob.name, bob.jobs "
      ]
    },
    {
      "cell_type": "markdown",
      "metadata": {
        "id": "6RYIuEuMTi_C"
      },
      "source": [
        "A named tuple can be converted to a dictionary, which allows key-based access to the items."
      ]
    },
    {
      "cell_type": "code",
      "execution_count": null,
      "metadata": {
        "id": "ZAOl5SbLTi_C",
        "outputId": "10fca4f5-bf56-453e-f320-dbd3b10eedfa"
      },
      "outputs": [
        {
          "data": {
            "text/plain": [
              "'Bob'"
            ]
          },
          "execution_count": 174,
          "metadata": {},
          "output_type": "execute_result"
        }
      ],
      "source": [
        "D = bob._asdict() \n",
        "# Access by key\n",
        "D['name']"
      ]
    },
    {
      "cell_type": "markdown",
      "metadata": {
        "id": "ka-ObmdNTi_C"
      },
      "source": [
        "### When to Use Tuples\n",
        "\n",
        "Although tuples are very similar to lists, tuples are not used as often as lists in programming. However, tuples are used when immutability is necessary; for instance, if in your program you are using an object and need to make sure it does not get changed, then a tuple provides convenient integrity. "
      ]
    },
    {
      "cell_type": "markdown",
      "metadata": {
        "id": "aVQCr8wtTi_C"
      },
      "source": [
        "# 2.7 Sets <a id=\"section7\"/>"
      ]
    },
    {
      "cell_type": "markdown",
      "metadata": {
        "id": "V0rLrg8mTi_C"
      },
      "source": [
        ">  A ***set*** is a collection of *unique* objects which is unordered and immutable, and are constructed by using the set() function.\n",
        "\n",
        "Sets support operations corresponding to mathematical set theory (intersection, union, etc.). By definition, an item appears only once in a set, no matter how many times it is added. \n",
        "\n",
        "Because sets are collections of objects, they share some behavior with lists and dictionaries. For example, sets are iterable, can grow and shrink on demand, and may contain a variety of object types. \n",
        "\n",
        "However, since sets are unordered and do not map keys to values, they are neither a sequence or mapping type.\n",
        "\n",
        "Sets have a variety of applications, especially in numeric and database-focused work."
      ]
    },
    {
      "cell_type": "markdown",
      "metadata": {
        "id": "BQbh4prmTi_D"
      },
      "source": [
        "To create a set object, pass in a sequence or another iterable object to the built-in set function."
      ]
    },
    {
      "cell_type": "code",
      "execution_count": null,
      "metadata": {
        "id": "shxJAdPWTi_D",
        "outputId": "4467dc4e-6a03-44c6-d107-cffda4c65a5a"
      },
      "outputs": [
        {
          "data": {
            "text/plain": [
              "{'a', 'b', 'c', 'd', 'e'}"
            ]
          },
          "execution_count": 175,
          "metadata": {},
          "output_type": "execute_result"
        }
      ],
      "source": [
        "x = set('abcde')\n",
        "x"
      ]
    },
    {
      "cell_type": "markdown",
      "metadata": {
        "id": "HbhblHf4Ti_D"
      },
      "source": [
        "The sets are displayed with curly brackets. This is similar to a dictionary, but sets do not have keys and values (or, they can be considered dictionaries with only keys and without any values)."
      ]
    },
    {
      "cell_type": "markdown",
      "metadata": {
        "id": "zsE3eaLyTi_D"
      },
      "source": [
        "### Set Expressions"
      ]
    },
    {
      "cell_type": "code",
      "execution_count": null,
      "metadata": {
        "id": "HeiHFXRZTi_D",
        "outputId": "90aa560f-6782-47fb-fd77-f64ac8346864"
      },
      "outputs": [
        {
          "data": {
            "text/plain": [
              "{'a', 'b', 'c', 'd', 'e', 'x', 'y', 'z'}"
            ]
          },
          "execution_count": 176,
          "metadata": {},
          "output_type": "execute_result"
        }
      ],
      "source": [
        "x = set('abcde')\n",
        "y = set('bdxyz')\n",
        "# Union\n",
        "x | y"
      ]
    },
    {
      "cell_type": "code",
      "execution_count": null,
      "metadata": {
        "id": "PF8tEFKoTi_E",
        "outputId": "40aee140-6778-46b8-eed4-f33a5caf692b"
      },
      "outputs": [
        {
          "data": {
            "text/plain": [
              "{'a', 'b', 'c', 'd', 'e', 'x', 'y', 'z'}"
            ]
          },
          "execution_count": 177,
          "metadata": {},
          "output_type": "execute_result"
        }
      ],
      "source": [
        "# Union\n",
        "x | y"
      ]
    },
    {
      "cell_type": "code",
      "execution_count": null,
      "metadata": {
        "id": "THqmALd6Ti_E",
        "outputId": "bd045eab-c2a9-454c-ee4f-b0565fda61a7"
      },
      "outputs": [
        {
          "data": {
            "text/plain": [
              "{'b', 'd'}"
            ]
          },
          "execution_count": 178,
          "metadata": {},
          "output_type": "execute_result"
        }
      ],
      "source": [
        "# Intersection\n",
        "x & y"
      ]
    },
    {
      "cell_type": "code",
      "execution_count": null,
      "metadata": {
        "id": "v8tLRsJkTi_E",
        "outputId": "3075d9fd-beb1-49ab-e89b-b719a3814ca8"
      },
      "outputs": [
        {
          "data": {
            "text/plain": [
              "{'a', 'c', 'e'}"
            ]
          },
          "execution_count": 179,
          "metadata": {},
          "output_type": "execute_result"
        }
      ],
      "source": [
        "# Difference\n",
        "x - y"
      ]
    },
    {
      "cell_type": "code",
      "execution_count": null,
      "metadata": {
        "id": "KsfllGeXTi_E",
        "outputId": "7519b57e-76c8-40fd-d9c2-fd7737e30a12"
      },
      "outputs": [
        {
          "data": {
            "text/plain": [
              "{'a', 'c', 'e', 'x', 'y', 'z'}"
            ]
          },
          "execution_count": 180,
          "metadata": {},
          "output_type": "execute_result"
        }
      ],
      "source": [
        "# Symmetric difference (XOR) - elements in either x or y, but not both in x and y\n",
        "x ^ y"
      ]
    },
    {
      "cell_type": "code",
      "execution_count": null,
      "metadata": {
        "id": "yAD3Ftk3Ti_F",
        "outputId": "eadb2199-0587-42ce-8415-4e62c129a2f3"
      },
      "outputs": [
        {
          "data": {
            "text/plain": [
              "(False, False)"
            ]
          },
          "execution_count": 181,
          "metadata": {},
          "output_type": "execute_result"
        }
      ],
      "source": [
        "# Superset, subset\n",
        "x > y, x < y"
      ]
    },
    {
      "cell_type": "code",
      "execution_count": null,
      "metadata": {
        "id": "i3c21khkTi_F",
        "outputId": "9bceed3a-a751-43bf-9d3f-3cc94785fade"
      },
      "outputs": [
        {
          "data": {
            "text/plain": [
              "True"
            ]
          },
          "execution_count": 182,
          "metadata": {},
          "output_type": "execute_result"
        }
      ],
      "source": [
        "# Membership of a set\n",
        "'e' in x"
      ]
    },
    {
      "cell_type": "markdown",
      "metadata": {
        "id": "CUCEskWoTi_F"
      },
      "source": [
        "Sets can also be created by adding elements to an existing set object."
      ]
    },
    {
      "cell_type": "code",
      "execution_count": null,
      "metadata": {
        "id": "nfxblmnnTi_F"
      },
      "outputs": [],
      "source": [
        "# Create a set\n",
        "z = set()"
      ]
    },
    {
      "cell_type": "code",
      "execution_count": null,
      "metadata": {
        "id": "eWn5N1h9Ti_F",
        "outputId": "1f86c03b-a686-48a0-f610-2da3eb2f63cc"
      },
      "outputs": [
        {
          "data": {
            "text/plain": [
              "{1}"
            ]
          },
          "execution_count": 184,
          "metadata": {},
          "output_type": "execute_result"
        }
      ],
      "source": [
        "# Add to set with the add() method\n",
        "z.add(1)\n",
        "z"
      ]
    },
    {
      "cell_type": "code",
      "execution_count": null,
      "metadata": {
        "id": "j63ID0HMTi_G",
        "outputId": "974ab939-8de6-4592-bbad-3f9949be69c3"
      },
      "outputs": [
        {
          "data": {
            "text/plain": [
              "{1, 2}"
            ]
          },
          "execution_count": 185,
          "metadata": {},
          "output_type": "execute_result"
        }
      ],
      "source": [
        "# Add a different element\n",
        "z.add(2)\n",
        "z"
      ]
    },
    {
      "cell_type": "code",
      "execution_count": null,
      "metadata": {
        "id": "HCLselAjTi_G",
        "outputId": "3a18bf81-c46b-4cc0-ab5f-46f8cacb86ca"
      },
      "outputs": [
        {
          "data": {
            "text/plain": [
              "{1, 2}"
            ]
          },
          "execution_count": 186,
          "metadata": {},
          "output_type": "execute_result"
        }
      ],
      "source": [
        "# Try to add the same element\n",
        "z.add(1)\n",
        "z"
      ]
    },
    {
      "cell_type": "markdown",
      "metadata": {
        "id": "G8jZ9pxhTi_G"
      },
      "source": [
        "We cannot add another 1, because a set has only unique elements.\n",
        "\n",
        "For instance, we can cast a list with multiple repeat elements into a set to get the unique elements of the list."
      ]
    },
    {
      "cell_type": "code",
      "execution_count": null,
      "metadata": {
        "id": "QF3H3hCTTi_G",
        "outputId": "82659dcc-0677-4c46-c3eb-f915c1eee7b6"
      },
      "outputs": [
        {
          "data": {
            "text/plain": [
              "{1, 2, 3, 4, 5, 6}"
            ]
          },
          "execution_count": 187,
          "metadata": {},
          "output_type": "execute_result"
        }
      ],
      "source": [
        "# Create a list with repeats\n",
        "list1 = [1, 1, 2, 2, 3, 4, 5, 6, 1, 1]\n",
        "# Cast as set to get unique values\n",
        "set(list1)"
      ]
    },
    {
      "cell_type": "markdown",
      "metadata": {
        "id": "-VDrgpwhTi_G"
      },
      "source": [
        "### Set methods\n",
        "\n",
        "Similar to the set expressions shown above, there are set methods for union, intersections, and other related operations."
      ]
    },
    {
      "cell_type": "code",
      "execution_count": null,
      "metadata": {
        "id": "_077VvRgTi_H",
        "outputId": "23ba35fb-2a85-41e7-aa34-0ce195d61195"
      },
      "outputs": [
        {
          "data": {
            "text/plain": [
              "{'b', 'd'}"
            ]
          },
          "execution_count": 188,
          "metadata": {},
          "output_type": "execute_result"
        }
      ],
      "source": [
        "x = set('abcde')\n",
        "y = set('bdxyz')\n",
        "# Same as x & y\n",
        "z = x.intersection(y) # Same as x & y\n",
        "z"
      ]
    },
    {
      "cell_type": "code",
      "execution_count": null,
      "metadata": {
        "id": "X5VPWAjkTi_H",
        "outputId": "5aa3cb4f-b3c8-4027-ec9c-ef0e5b255af8"
      },
      "outputs": [
        {
          "data": {
            "text/plain": [
              "{'d'}"
            ]
          },
          "execution_count": 189,
          "metadata": {},
          "output_type": "execute_result"
        }
      ],
      "source": [
        "# Delete one item\n",
        "z.remove('b') \n",
        "z"
      ]
    },
    {
      "cell_type": "markdown",
      "metadata": {
        "id": "DAVSwHNETi_H"
      },
      "source": [
        "Also, we can use for-loops with the elements of sets."
      ]
    },
    {
      "cell_type": "code",
      "execution_count": null,
      "metadata": {
        "id": "cyEIfcNxTi_H",
        "outputId": "c009430b-d8a9-4b28-cd01-c6e0b061a41e"
      },
      "outputs": [
        {
          "name": "stdout",
          "output_type": "stream",
          "text": [
            "ccc\n",
            "aaa\n",
            "bbb\n"
          ]
        }
      ],
      "source": [
        "for item in set('abc'):\n",
        "    print(item * 3)"
      ]
    },
    {
      "cell_type": "markdown",
      "metadata": {
        "id": "29O1rUPRTi_I"
      },
      "source": [
        "### Frozen Sets"
      ]
    },
    {
      "cell_type": "markdown",
      "metadata": {
        "id": "fBhOsR8ZTi_I"
      },
      "source": [
        "Because sets are immutable, they don't support embedding mutable (a.k.a, not hashable) objects, like lists and dictionaries. "
      ]
    },
    {
      "cell_type": "code",
      "execution_count": null,
      "metadata": {
        "id": "8-SBuP9dTi_I",
        "outputId": "88a8adfb-c5b2-4bf7-d96b-8cca5d8996aa"
      },
      "outputs": [
        {
          "ename": "TypeError",
          "evalue": "unhashable type: 'list'",
          "output_type": "error",
          "traceback": [
            "\u001b[1;31m---------------------------------------------------------------------------\u001b[0m",
            "\u001b[1;31mTypeError\u001b[0m                                 Traceback (most recent call last)",
            "\u001b[1;32m<ipython-input-191-ebf015b8cd0c>\u001b[0m in \u001b[0;36m<module>\u001b[1;34m\u001b[0m\n\u001b[0;32m      1\u001b[0m \u001b[1;31m# We get an error, because we cannot insert a list into a set\u001b[0m\u001b[1;33m\u001b[0m\u001b[1;33m\u001b[0m\u001b[1;33m\u001b[0m\u001b[0m\n\u001b[0;32m      2\u001b[0m \u001b[0mS\u001b[0m \u001b[1;33m=\u001b[0m \u001b[1;33m{\u001b[0m\u001b[1;36m3\u001b[0m\u001b[1;33m,\u001b[0m \u001b[1;36m4\u001b[0m\u001b[1;33m}\u001b[0m\u001b[1;33m\u001b[0m\u001b[1;33m\u001b[0m\u001b[0m\n\u001b[1;32m----> 3\u001b[1;33m \u001b[0mS\u001b[0m\u001b[1;33m.\u001b[0m\u001b[0madd\u001b[0m\u001b[1;33m(\u001b[0m\u001b[1;33m[\u001b[0m\u001b[1;36m1\u001b[0m\u001b[1;33m,\u001b[0m \u001b[1;36m2\u001b[0m\u001b[1;33m,\u001b[0m \u001b[1;36m3\u001b[0m\u001b[1;33m]\u001b[0m\u001b[1;33m)\u001b[0m\u001b[1;33m\u001b[0m\u001b[1;33m\u001b[0m\u001b[0m\n\u001b[0m",
            "\u001b[1;31mTypeError\u001b[0m: unhashable type: 'list'"
          ]
        }
      ],
      "source": [
        "# We get an error, because we cannot insert a list into a set\n",
        "S = {3, 4}\n",
        "S.add([1, 2, 3])"
      ]
    },
    {
      "cell_type": "markdown",
      "metadata": {
        "id": "DwV6su0fTi_I"
      },
      "source": [
        "The `frozenset` built-in function creates an immutable set that cannot change and thus can be embedded in other sets. Frozen means that it freezes a mutable iterable object and makes it unchangeable."
      ]
    },
    {
      "cell_type": "code",
      "execution_count": null,
      "metadata": {
        "id": "I4hvVMDXTi_J"
      },
      "outputs": [],
      "source": [
        "s2 = frozenset([1,2,3])"
      ]
    },
    {
      "cell_type": "code",
      "execution_count": null,
      "metadata": {
        "id": "oE3dX4hOTi_J",
        "outputId": "f8a5b8b5-e300-4c9b-e71b-e497d1ca4618"
      },
      "outputs": [
        {
          "data": {
            "text/plain": [
              "frozenset({1, 2, 3})"
            ]
          },
          "execution_count": 193,
          "metadata": {},
          "output_type": "execute_result"
        }
      ],
      "source": [
        "s2"
      ]
    },
    {
      "cell_type": "code",
      "execution_count": null,
      "metadata": {
        "id": "esu8wt7cTi_J",
        "outputId": "fabd4751-8bca-4d5f-dae7-e99ba1cdf6b1"
      },
      "outputs": [
        {
          "data": {
            "text/plain": [
              "{3, 4, frozenset({1, 2, 3})}"
            ]
          },
          "execution_count": 194,
          "metadata": {},
          "output_type": "execute_result"
        }
      ],
      "source": [
        "S.add(s2)\n",
        "S"
      ]
    },
    {
      "cell_type": "markdown",
      "metadata": {
        "id": "KnstJ6TWTi_J"
      },
      "source": [
        "# 2.8 Other Data Types <a id=\"section8\"/>"
      ]
    },
    {
      "cell_type": "markdown",
      "metadata": {
        "id": "84x9klLyTi_J"
      },
      "source": [
        "### Booleans\n",
        "\n",
        "Python also have a Boolean data type with predefined built-in name `True` and `False`, that are basically just the integers 1 and 0."
      ]
    },
    {
      "cell_type": "code",
      "execution_count": null,
      "metadata": {
        "id": "yFCfPgA8Ti_K",
        "outputId": "30e10d1b-36b5-4b63-f63c-347afbf7bb62"
      },
      "outputs": [
        {
          "data": {
            "text/plain": [
              "True"
            ]
          },
          "execution_count": 195,
          "metadata": {},
          "output_type": "execute_result"
        }
      ],
      "source": [
        "# Set object to be a boolean\n",
        "a = True\n",
        "# Show\n",
        "a"
      ]
    },
    {
      "cell_type": "markdown",
      "metadata": {
        "id": "Dlq4BKsjTi_K"
      },
      "source": [
        "The data type for True and False is `bool`."
      ]
    },
    {
      "cell_type": "code",
      "execution_count": null,
      "metadata": {
        "id": "bNBpHAfvTi_K",
        "outputId": "fc6f583b-6aad-477a-fb23-36ed8dc745b4"
      },
      "outputs": [
        {
          "name": "stdout",
          "output_type": "stream",
          "text": [
            "<class 'bool'>\n"
          ]
        }
      ],
      "source": [
        "print(type(a))"
      ]
    },
    {
      "cell_type": "markdown",
      "metadata": {
        "id": "FO3OKZSXTi_K"
      },
      "source": [
        "We can also use comparison operators to create Booleans. "
      ]
    },
    {
      "cell_type": "code",
      "execution_count": null,
      "metadata": {
        "id": "_pG0B_UdTi_L",
        "outputId": "10cbcf1e-5808-41cb-b8fd-e4556dde0083"
      },
      "outputs": [
        {
          "data": {
            "text/plain": [
              "False"
            ]
          },
          "execution_count": 197,
          "metadata": {},
          "output_type": "execute_result"
        }
      ],
      "source": [
        "# Output is boolean\n",
        "1 > 2"
      ]
    },
    {
      "cell_type": "code",
      "execution_count": null,
      "metadata": {
        "id": "UypQ4jLaTi_L",
        "outputId": "1f305601-b206-427a-9e36-9f8155675896"
      },
      "outputs": [
        {
          "data": {
            "text/plain": [
              "True"
            ]
          },
          "execution_count": 198,
          "metadata": {},
          "output_type": "execute_result"
        }
      ],
      "source": [
        "# Is True the same as 1\n",
        "True == 1"
      ]
    },
    {
      "cell_type": "markdown",
      "metadata": {
        "id": "TXB74lgnTi_M"
      },
      "source": [
        "In Python each object is either True or False, as follows:\n",
        "- Numbers are false if zero, and true otherwise.\n",
        "- Other objects are false if empty, and true otherwise."
      ]
    },
    {
      "cell_type": "code",
      "execution_count": null,
      "metadata": {
        "id": "LDj3o9I4Ti_M",
        "outputId": "bdb8d622-ec45-4509-b187-ad9f0caa9914"
      },
      "outputs": [
        {
          "data": {
            "text/plain": [
              "True"
            ]
          },
          "execution_count": 199,
          "metadata": {},
          "output_type": "execute_result"
        }
      ],
      "source": [
        "bool(2)"
      ]
    },
    {
      "cell_type": "code",
      "execution_count": null,
      "metadata": {
        "id": "RE-b0u7WTi_M",
        "outputId": "984cffe4-3324-4c74-f942-0824e9515226"
      },
      "outputs": [
        {
          "data": {
            "text/plain": [
              "False"
            ]
          },
          "execution_count": 200,
          "metadata": {},
          "output_type": "execute_result"
        }
      ],
      "source": [
        "bool(0)"
      ]
    },
    {
      "cell_type": "code",
      "execution_count": null,
      "metadata": {
        "id": "jDqV1GWtTi_M",
        "outputId": "adf771ea-1cd4-4f6f-a7e0-7ef4d0fdb9dd"
      },
      "outputs": [
        {
          "data": {
            "text/plain": [
              "True"
            ]
          },
          "execution_count": 201,
          "metadata": {},
          "output_type": "execute_result"
        }
      ],
      "source": [
        "bool('book')"
      ]
    },
    {
      "cell_type": "code",
      "execution_count": null,
      "metadata": {
        "id": "I1ltG2uETi_M",
        "outputId": "867c2fd8-6c1f-4687-e1a5-383898914a64"
      },
      "outputs": [
        {
          "data": {
            "text/plain": [
              "False"
            ]
          },
          "execution_count": 202,
          "metadata": {},
          "output_type": "execute_result"
        }
      ],
      "source": [
        "bool('')"
      ]
    },
    {
      "cell_type": "code",
      "execution_count": null,
      "metadata": {
        "id": "DE1cW5sATi_N",
        "outputId": "e0fe558b-f4f5-471c-f5a4-0b05786c1e12"
      },
      "outputs": [
        {
          "data": {
            "text/plain": [
              "True"
            ]
          },
          "execution_count": 203,
          "metadata": {},
          "output_type": "execute_result"
        }
      ],
      "source": [
        "bool([1, 2])"
      ]
    },
    {
      "cell_type": "markdown",
      "metadata": {
        "id": "pV7LP327Ti_N"
      },
      "source": [
        "### The None Object"
      ]
    },
    {
      "cell_type": "markdown",
      "metadata": {
        "id": "dTg5xixlTi_N"
      },
      "source": [
        "We can use **None** as a placeholder for an object that we don't want to reassign yet:"
      ]
    },
    {
      "cell_type": "code",
      "execution_count": null,
      "metadata": {
        "id": "XNtIeap4Ti_N"
      },
      "outputs": [],
      "source": [
        "# None placeholder\n",
        "b = None"
      ]
    },
    {
      "cell_type": "code",
      "execution_count": null,
      "metadata": {
        "id": "1Nz-h2Q-Ti_O",
        "outputId": "9922c7ef-0f4e-44dd-936f-886cffb24d14"
      },
      "outputs": [
        {
          "name": "stdout",
          "output_type": "stream",
          "text": [
            "None\n"
          ]
        }
      ],
      "source": [
        "# Show\n",
        "print(b)"
      ]
    },
    {
      "cell_type": "markdown",
      "metadata": {
        "id": "LRwt7eMITi_O"
      },
      "source": [
        "For instance, to initialize a list which size is not known yet, we can use None to preset the initial size and allow for future index assignment.\n"
      ]
    },
    {
      "cell_type": "markdown",
      "metadata": {
        "id": "d-6vVbNmTi_O"
      },
      "source": [
        "# 2.9 Appendix (not required for quizzes and assignments) <a id=\"section9\"/>"
      ]
    },
    {
      "cell_type": "markdown",
      "metadata": {
        "id": "F6qqTTW2Ti_O"
      },
      "source": [
        "# String Formatting\n",
        "\n",
        "String formatting lets you inject items into a string, rather than trying to chain items together using commas or string concatenation. As a quick comparison, consider:\n",
        "\n",
        "    player = 'Thomas'\n",
        "    points = 33\n",
        "    \n",
        "    'Last night, '+player+' scored '+str(points)+' points.'  # concatenation\n",
        "    \n",
        "    f'Last night, {player} scored {points} points.'          # string formatting\n",
        "    \n",
        "    # The output of both concatenatin and string formatting is the same:\n",
        "    'Last night Thomas scored 33 points.'\n",
        "\n",
        "\n",
        "There are three ways to perform string formatting.\n",
        "* The oldest method involves placeholders using the modulo `%` character.\n",
        "* An improved technique uses the `.format()` string method.\n",
        "* The newest method, introduced with Python 3.6, uses formatted string literals, called *f-strings*.\n",
        "\n",
        "These three methods are described next each of them here."
      ]
    },
    {
      "cell_type": "markdown",
      "metadata": {
        "id": "CzC6z76DTi_O"
      },
      "source": [
        "### Formatting with placeholders\n",
        "You can use <code>%s</code> to inject strings into your print statements. The modulo `%` is referred to as a \"string formatting operator\"."
      ]
    },
    {
      "cell_type": "code",
      "execution_count": null,
      "metadata": {
        "id": "1HNAg3tITi_P",
        "outputId": "7ee2d9f4-03a5-4539-adc3-227a36f902d5"
      },
      "outputs": [
        {
          "name": "stdout",
          "output_type": "stream",
          "text": [
            "I'm going to inject something here.\n"
          ]
        }
      ],
      "source": [
        "print(\"I'm going to inject %s here.\" %'something')"
      ]
    },
    {
      "cell_type": "markdown",
      "metadata": {
        "id": "p3UaqW_8Ti_P"
      },
      "source": [
        "You can pass multiple items by placing them inside a tuple after the `%` operator."
      ]
    },
    {
      "cell_type": "code",
      "execution_count": null,
      "metadata": {
        "id": "W12zDS2CTi_P",
        "outputId": "45b1fc0c-df01-4a2e-c1d9-4ae45a519026"
      },
      "outputs": [
        {
          "name": "stdout",
          "output_type": "stream",
          "text": [
            "I'm going to inject some text here, and more text here.\n"
          ]
        }
      ],
      "source": [
        "print(\"I'm going to inject %s text here, and %s text here.\" %('some','more'))"
      ]
    },
    {
      "cell_type": "markdown",
      "metadata": {
        "id": "e2-h7rpGTi_P"
      },
      "source": [
        "You can also pass variable names:"
      ]
    },
    {
      "cell_type": "code",
      "execution_count": null,
      "metadata": {
        "id": "qXyksBRsTi_Q",
        "outputId": "31ad1fda-d121-41f2-af16-2bcf83682296"
      },
      "outputs": [
        {
          "name": "stdout",
          "output_type": "stream",
          "text": [
            "I'm going to inject some text here, and more text here.\n"
          ]
        }
      ],
      "source": [
        "x, y = 'some', 'more'\n",
        "print(\"I'm going to inject %s text here, and %s text here.\"%(x,y))"
      ]
    },
    {
      "cell_type": "markdown",
      "metadata": {
        "id": "nh2xcTdNTi_Q"
      },
      "source": [
        "It should be noted that two methods <code>%s</code> and <code>%r</code> convert any python object to a string using two separate methods: `str()` and `repr()`. Where `%r` and `repr()` deliver the *string representation* of the object, including quotation marks and any escape characters."
      ]
    },
    {
      "cell_type": "code",
      "execution_count": null,
      "metadata": {
        "id": "0SYv3_I6Ti_Q",
        "outputId": "12556658-dbed-4a4b-9a4d-344a0433c535"
      },
      "outputs": [
        {
          "name": "stdout",
          "output_type": "stream",
          "text": [
            "He said his name was Fred.\n",
            "He said his name was 'Fred'.\n"
          ]
        }
      ],
      "source": [
        "print('He said his name was %s.' %'Fred')\n",
        "print('He said his name was %r.' %'Fred') # note that 'Fred' is displayed in quotations"
      ]
    },
    {
      "cell_type": "markdown",
      "metadata": {
        "id": "t90DuDGcTi_Q"
      },
      "source": [
        "As another example, `\\t` inserts a tab into a string."
      ]
    },
    {
      "cell_type": "code",
      "execution_count": null,
      "metadata": {
        "id": "LDOaAYCoTi_Q",
        "outputId": "1d3a6cc0-23d2-4dd1-a94d-7f4b746a6c16"
      },
      "outputs": [
        {
          "name": "stdout",
          "output_type": "stream",
          "text": [
            "I once caught a fish this \tbig.\n",
            "I once caught a fish 'this \\tbig'.\n"
          ]
        }
      ],
      "source": [
        "print('I once caught a fish %s.' %'this \\tbig')\n",
        "print('I once caught a fish %r.' %'this \\tbig')"
      ]
    },
    {
      "cell_type": "markdown",
      "metadata": {
        "id": "anEBpC9HTi_R"
      },
      "source": [
        "The `%s` operator converts whatever it sees into a string, including integers and floats. The `%d` operator converts numbers to integers first. Note the difference below:"
      ]
    },
    {
      "cell_type": "code",
      "execution_count": null,
      "metadata": {
        "id": "NqBbx7DfTi_R",
        "outputId": "c8ee76f7-5cc0-435a-a2e3-4569fac306f5"
      },
      "outputs": [
        {
          "name": "stdout",
          "output_type": "stream",
          "text": [
            "I wrote 3.75 programs today.\n",
            "I wrote 3 programs today.\n"
          ]
        }
      ],
      "source": [
        "print('I wrote %s programs today.' %3.75)\n",
        "print('I wrote %d programs today.' %3.75)   "
      ]
    },
    {
      "cell_type": "markdown",
      "metadata": {
        "id": "KUt92tcvTi_R"
      },
      "source": [
        "#### Padding and Precision of Floating Point Numbers\n",
        "Floating point numbers use the format <code>%5.2f</code>. Here, <code>5</code> is the minimum number of characters the string should contain; these may be padded with whitespace if the entire number does not have this many digits. Next to this, <code>.2f</code> stands for how many numbers to show past the decimal point. "
      ]
    },
    {
      "cell_type": "code",
      "execution_count": null,
      "metadata": {
        "id": "ZShT1OtyTi_R",
        "outputId": "2ec30af3-fab4-4655-8205-9a2da3225fff"
      },
      "outputs": [
        {
          "name": "stdout",
          "output_type": "stream",
          "text": [
            "Floating point numbers: 13.14\n"
          ]
        }
      ],
      "source": [
        "print('Floating point numbers: %5.2f' %(13.144))"
      ]
    },
    {
      "cell_type": "code",
      "execution_count": null,
      "metadata": {
        "id": "QE598q11Ti_S",
        "outputId": "535e434b-94b9-49d8-b052-ddcad1bd6f43"
      },
      "outputs": [
        {
          "name": "stdout",
          "output_type": "stream",
          "text": [
            "Floating point numbers: 13\n"
          ]
        }
      ],
      "source": [
        "print('Floating point numbers: %1.0f' %(13.144))"
      ]
    },
    {
      "cell_type": "code",
      "execution_count": null,
      "metadata": {
        "id": "596WHMYFTi_S",
        "outputId": "a3a5a004-518a-49b4-8954-e86abf5be0a6"
      },
      "outputs": [
        {
          "name": "stdout",
          "output_type": "stream",
          "text": [
            "Floating point numbers: 13.14400\n"
          ]
        }
      ],
      "source": [
        "print('Floating point numbers: %1.5f' %(13.144))"
      ]
    },
    {
      "cell_type": "code",
      "execution_count": null,
      "metadata": {
        "id": "UeRO5ULLTi_S",
        "outputId": "282946f1-865a-4b03-b3a6-e823f154737c"
      },
      "outputs": [
        {
          "name": "stdout",
          "output_type": "stream",
          "text": [
            "Floating point numbers:      13.14\n"
          ]
        }
      ],
      "source": [
        "# Note that 5 empty spaces will be added in front of the number, to make it a total of 10 characters\n",
        "print('Floating point numbers: %10.2f' %(13.144))"
      ]
    },
    {
      "cell_type": "code",
      "execution_count": null,
      "metadata": {
        "id": "vwy4F_LrTi_S",
        "outputId": "a3fae86e-5430-49d2-89b2-1f74f85e056f"
      },
      "outputs": [
        {
          "name": "stdout",
          "output_type": "stream",
          "text": [
            "Floating point numbers:                     13.14\n"
          ]
        }
      ],
      "source": [
        "print('Floating point numbers: %25.2f' %(13.144))"
      ]
    },
    {
      "cell_type": "markdown",
      "metadata": {
        "id": "zxgMRYh7Ti_S"
      },
      "source": [
        "It is possible to use more than one conversion tool in the same print statement:"
      ]
    },
    {
      "cell_type": "code",
      "execution_count": null,
      "metadata": {
        "id": "sGAuON3ATi_T",
        "outputId": "b33503cf-b55e-4e6c-c7ab-8d70e4f1c557"
      },
      "outputs": [
        {
          "name": "stdout",
          "output_type": "stream",
          "text": [
            "First: hi!, Second:  3.14, Third: 'bye!'\n"
          ]
        }
      ],
      "source": [
        "print('First: %s, Second: %5.2f, Third: %r' %('hi!',3.1415,'bye!'))"
      ]
    },
    {
      "cell_type": "markdown",
      "metadata": {
        "id": "sv9KbaP8Ti_T"
      },
      "source": [
        "### Formatting with the `.format()` method\n",
        "A better way to format objects into your strings for print statements is with the string `.format()` method. The syntax is:\n",
        "\n",
        "    'String here {} then also {}'.format('something1','something2')\n",
        "    \n",
        "For example:"
      ]
    },
    {
      "cell_type": "code",
      "execution_count": null,
      "metadata": {
        "id": "F5mRq3RlTi_T",
        "outputId": "bf3995cd-6837-4e54-8a5e-82b09433742a"
      },
      "outputs": [
        {
          "name": "stdout",
          "output_type": "stream",
          "text": [
            "This is a string with an insert\n"
          ]
        }
      ],
      "source": [
        "print('This is a string with an {}'.format('insert'))"
      ]
    },
    {
      "cell_type": "markdown",
      "metadata": {
        "id": "QInoSy-YTi_T"
      },
      "source": [
        "The `.format()` method has several advantages over the `%s` placeholder method:"
      ]
    },
    {
      "cell_type": "markdown",
      "metadata": {
        "id": "rck5LuNnTi_T"
      },
      "source": [
        "1. Inserted objects can be called by index position:"
      ]
    },
    {
      "cell_type": "code",
      "execution_count": null,
      "metadata": {
        "id": "MJ0laz7eTi_U",
        "outputId": "e595c40e-0111-4e77-a80d-698c3a22b9b6"
      },
      "outputs": [
        {
          "name": "stdout",
          "output_type": "stream",
          "text": [
            "The quick brown fox\n"
          ]
        }
      ],
      "source": [
        "print('The {2} {1} {0}'.format('fox','brown','quick'))"
      ]
    },
    {
      "cell_type": "markdown",
      "metadata": {
        "id": "BqJ1kHRBTi_U"
      },
      "source": [
        "2. Inserted objects can be assigned keywords:"
      ]
    },
    {
      "cell_type": "code",
      "execution_count": null,
      "metadata": {
        "id": "98bNZT6-Ti_U",
        "outputId": "e6c3cd8a-7deb-4a1a-acdd-22de0a6a8435"
      },
      "outputs": [
        {
          "name": "stdout",
          "output_type": "stream",
          "text": [
            "First Object: 1, Second Object: Two, Third Object: 12.3\n"
          ]
        }
      ],
      "source": [
        "print('First Object: {a}, Second Object: {b}, Third Object: {c}'.format(a=1,b='Two',c=12.3))"
      ]
    },
    {
      "cell_type": "markdown",
      "metadata": {
        "id": "D6s46ElATi_U"
      },
      "source": [
        "3. Inserted objects can be reused, avoiding duplication:"
      ]
    },
    {
      "cell_type": "code",
      "execution_count": null,
      "metadata": {
        "id": "W3e-lwW2Ti_U",
        "outputId": "28eadb8c-8557-47a5-cdbe-ac97ed5156c3"
      },
      "outputs": [
        {
          "name": "stdout",
          "output_type": "stream",
          "text": [
            "A penny saved is a penny earned.\n",
            "A penny saved is a penny earned.\n"
          ]
        }
      ],
      "source": [
        "print('A %s saved is a %s earned.' %('penny','penny'))\n",
        "# vs.\n",
        "print('A {p} saved is a {p} earned.'.format(p='penny'))"
      ]
    },
    {
      "cell_type": "markdown",
      "metadata": {
        "id": "WOTF2Sj2Ti_V"
      },
      "source": [
        "Within the curly braces you can assign field lengths, left/right alignments, rounding parameters and more."
      ]
    },
    {
      "cell_type": "code",
      "execution_count": null,
      "metadata": {
        "id": "vfwCKedgTi_V",
        "outputId": "02e3b224-cef5-4696-8fa0-5561485f5d79"
      },
      "outputs": [
        {
          "name": "stdout",
          "output_type": "stream",
          "text": [
            "Fruit    | Quantity\n",
            "Apples   |      3.0\n",
            "Oranges  |       10\n"
          ]
        }
      ],
      "source": [
        "# The field 0 has a length of 8 characters, and the next field 1 has a length of 9 characters\n",
        "print('{0:8} | {1:8}'.format('Fruit', 'Quantity'))\n",
        "print('{0:8} | {1:8}'.format('Apples', 3.))\n",
        "print('{0:8} | {1:8}'.format('Oranges', 10))"
      ]
    },
    {
      "cell_type": "markdown",
      "metadata": {
        "id": "eQUa-BkbTi_V"
      },
      "source": [
        "By default, `.format()` aligns text to the left, numbers to the right. You can pass an optional `<`,`^`, or `>` to set a left, center or right alignment:"
      ]
    },
    {
      "cell_type": "code",
      "execution_count": null,
      "metadata": {
        "id": "8aNhWQcITi_V",
        "outputId": "35ec8f64-67eb-43c3-cb56-d1d681976977"
      },
      "outputs": [
        {
          "name": "stdout",
          "output_type": "stream",
          "text": [
            "Left     |  Center  |    Right\n",
            "11       |    22    |       33\n"
          ]
        }
      ],
      "source": [
        "print('{0:<8} | {1:^8} | {2:>8}'.format('Left','Center','Right'))\n",
        "print('{0:<8} | {1:^8} | {2:>8}'.format(11,22,33))"
      ]
    },
    {
      "cell_type": "markdown",
      "metadata": {
        "id": "HCofPtEfTi_V"
      },
      "source": [
        "You can precede the aligment operator with a padding character."
      ]
    },
    {
      "cell_type": "code",
      "execution_count": null,
      "metadata": {
        "id": "2knU6JxtTi_W",
        "outputId": "53f941e7-c4b7-4bf4-a0da-b5b016f90299"
      },
      "outputs": [
        {
          "name": "stdout",
          "output_type": "stream",
          "text": [
            "Left==== | -Center- | ...Right\n",
            "11====== | ---22--- | ......33\n"
          ]
        }
      ],
      "source": [
        "print('{0:=<8} | {1:-^8} | {2:.>8}'.format('Left','Center','Right'))\n",
        "print('{0:=<8} | {1:-^8} | {2:.>8}'.format(11,22,33))"
      ]
    },
    {
      "cell_type": "markdown",
      "metadata": {
        "id": "opXXFVQGTi_W"
      },
      "source": [
        "Field widths and float precision are handled in a way similar to placeholders. The following two print statements are equivalent:"
      ]
    },
    {
      "cell_type": "code",
      "execution_count": null,
      "metadata": {
        "id": "FNGZOZT_Ti_W",
        "outputId": "16d4703e-700f-4e60-b2bf-e0d43e166ef3"
      },
      "outputs": [
        {
          "name": "stdout",
          "output_type": "stream",
          "text": [
            "This is my ten-character, two-decimal number:     13.58\n",
            "This is my ten-character, two-decimal number:     13.58\n"
          ]
        }
      ],
      "source": [
        "print('This is my ten-character, two-decimal number:%10.2f' %13.579)\n",
        "print('This is my ten-character, two-decimal number:{0:10.2f}'.format(13.579))"
      ]
    },
    {
      "cell_type": "markdown",
      "metadata": {
        "id": "UAr64pBMTi_W"
      },
      "source": [
        "Note that there are 5 spaces following the colon, and 5 characters taken up by 13.58, for a total of ten characters."
      ]
    },
    {
      "cell_type": "markdown",
      "metadata": {
        "id": "SFxqCM9zTi_W"
      },
      "source": [
        "### Formatted String Literals (f-strings)"
      ]
    },
    {
      "cell_type": "markdown",
      "metadata": {
        "id": "TaBwLjbfTi_X"
      },
      "source": [
        "Introduced in Python 3.6, `f-strings` offer several benefits over the older `.format()` string method described above. E.g., you can bring outside variables immediately into to the string rather than pass them as arguments through `.format(var)`."
      ]
    },
    {
      "cell_type": "code",
      "execution_count": null,
      "metadata": {
        "id": "fSpe_nOVTi_X",
        "outputId": "763a256c-0381-429b-f0b9-4c1b92577589"
      },
      "outputs": [
        {
          "name": "stdout",
          "output_type": "stream",
          "text": [
            "He said his name is Fred.\n"
          ]
        }
      ],
      "source": [
        "name = 'Fred'\n",
        "\n",
        "print(f\"He said his name is {name}.\")"
      ]
    },
    {
      "cell_type": "markdown",
      "metadata": {
        "id": "3oUY88WGTi_X"
      },
      "source": [
        "Pass `!r` to get the string representation:"
      ]
    },
    {
      "cell_type": "code",
      "execution_count": null,
      "metadata": {
        "id": "V2BqTDunTi_X",
        "outputId": "511ec5d1-92f3-40f4-d614-1012d664962c"
      },
      "outputs": [
        {
          "name": "stdout",
          "output_type": "stream",
          "text": [
            "He said his name is 'Fred'\n"
          ]
        }
      ],
      "source": [
        "print(f\"He said his name is {name!r}\")"
      ]
    },
    {
      "cell_type": "markdown",
      "metadata": {
        "id": "3Vm0L-jETi_X"
      },
      "source": [
        "Float formatting follows `result: {value:{width}.{precision}}`"
      ]
    },
    {
      "cell_type": "markdown",
      "metadata": {
        "id": "2aNEvTGYTi_Y"
      },
      "source": [
        "Where with the `.format()` method you might write `{value:10.4f}`, and with f-strings this can become `{value:{10}.{6}}`\n"
      ]
    },
    {
      "cell_type": "code",
      "execution_count": null,
      "metadata": {
        "id": "_gpVm5zyTi_Y",
        "outputId": "db97bd71-9edd-415c-8dd5-fd35f7dd4788"
      },
      "outputs": [
        {
          "name": "stdout",
          "output_type": "stream",
          "text": [
            "My 10 character, four decimal number is:   23.4568\n",
            "My 10 character, four decimal number is:   23.4568\n"
          ]
        }
      ],
      "source": [
        "num = 23.45678\n",
        "print(\"My 10 character, four decimal number is:{0:10.4f}\".format(num))\n",
        "print(f\"My 10 character, four decimal number is:{num:{10}.{6}}\")"
      ]
    },
    {
      "cell_type": "markdown",
      "metadata": {
        "id": "FsQ8qMs_Ti_Y"
      },
      "source": [
        "Note that with f-strings, *precision* refers to the total number of digits, not just those following the decimal. This fits more closely with scientific notation and statistical analysis. Unfortunately, f-strings do not pad to the right of the decimal, even if precision allows it:"
      ]
    },
    {
      "cell_type": "code",
      "execution_count": null,
      "metadata": {
        "id": "P3oFJiHATi_Y",
        "outputId": "b842c639-5b85-4f41-e43e-7206cd62d06e"
      },
      "outputs": [
        {
          "name": "stdout",
          "output_type": "stream",
          "text": [
            "My 10 character, four decimal number is:   23.4500\n",
            "My 10 character, four decimal number is:     23.45\n"
          ]
        }
      ],
      "source": [
        "num = 23.45\n",
        "print(\"My 10 character, four decimal number is:{0:10.4f}\".format(num))\n",
        "print(f\"My 10 character, four decimal number is:{num:{10}.{6}}\")"
      ]
    },
    {
      "cell_type": "markdown",
      "metadata": {
        "id": "4WYHITfwTi_Z"
      },
      "source": [
        "If this becomes important, you can always use `.format()` method syntax inside an `f-string`:"
      ]
    },
    {
      "cell_type": "code",
      "execution_count": null,
      "metadata": {
        "id": "XGpvcF3-Ti_Z",
        "outputId": "db79a34b-bfed-4615-a8a0-2f4795cbacec"
      },
      "outputs": [
        {
          "name": "stdout",
          "output_type": "stream",
          "text": [
            "My 10 character, four decimal number is:   23.4500\n",
            "My 10 character, four decimal number is:   23.4500\n"
          ]
        }
      ],
      "source": [
        "num = 23.45\n",
        "print(\"My 10 character, four decimal number is:{0:10.4f}\".format(num))\n",
        "print(f\"My 10 character, four decimal number is:{num:10.4f}\")"
      ]
    },
    {
      "cell_type": "markdown",
      "metadata": {
        "id": "dtVyqYtGTi_Z"
      },
      "source": [
        "# References <a id=\"section10\"/>\n",
        "\n",
        "1. Mark Lutz, \"Learning Python,\" 5-th edition, O-Reilly, 2013. ISBN: 978-1-449-35573-9.\n",
        "2. Pierian Data Inc., \"Complete Python 3 Bootcamp,\" codes available at: [https://github.com/Pierian-Data/Complete-Python-3-Bootcamp](https://github.com/Pierian-Data/Complete-Python-3-Bootcamp).\n",
        "3. Course T81 558:Applications of Deep Neural Networks, Washington University in St. Louis, Instructor: Jeff Heaton, codes available at: [https://github.com/jeffheaton/t81_558_deep_learning](https://github.com/jeffheaton/t81_558_deep_learning)"
      ]
    }
  ],
  "metadata": {
    "kernelspec": {
      "display_name": "Python 3",
      "language": "python",
      "name": "python3"
    },
    "language_info": {
      "codemirror_mode": {
        "name": "ipython",
        "version": 3
      },
      "file_extension": ".py",
      "mimetype": "text/x-python",
      "name": "python",
      "nbconvert_exporter": "python",
      "pygments_lexer": "ipython3",
      "version": "3.6.9"
    },
    "colab": {
      "provenance": []
    }
  },
  "nbformat": 4,
  "nbformat_minor": 0
}